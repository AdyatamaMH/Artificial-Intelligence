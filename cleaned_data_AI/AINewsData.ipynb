{
 "cells": [
  {
   "cell_type": "code",
   "execution_count": 1,
   "id": "2f301c6b",
   "metadata": {},
   "outputs": [],
   "source": [
    "import pandas as pd\n",
    "from transformers import AutoTokenizer, AutoModel\n",
    "import torch\n",
    "from sentence_transformers import SentenceTransformer\n",
    "import faiss\n",
    "import numpy as np\n",
    "import re\n",
    "import os\n",
    "# from langchain.llms import OpenAI\n",
    "# from langchain.prompts import PromptTemplate\n",
    "# from langchain.chains import LLMChain\n",
    "from langchain.chains import RetrievalQA\n",
    "from langchain.llms import OpenAI\n",
    "from langchain.vectorstores import FAISS\n",
    "from langchain.prompts import PromptTemplate\n",
    "from langchain_community.chat_models import ChatOpenAI\n",
    "from langchain.docstore import InMemoryDocstore\n",
    "from langchain.embeddings.openai import OpenAIEmbeddings\n",
    "from langchain_community.chat_models import ChatOpenAI\n",
    "import pickle\n",
    "from transformers import pipeline\n",
    "\n",
    "\n",
    "\n",
    "\n",
    "\n",
    "\n"
   ]
  },
  {
   "cell_type": "code",
   "execution_count": 2,
   "id": "f6f962fa",
   "metadata": {},
   "outputs": [
    {
     "name": "stdout",
     "output_type": "stream",
     "text": [
      "Initial Data:\n"
     ]
    },
    {
     "data": {
      "text/html": [
       "<div>\n",
       "<style scoped>\n",
       "    .dataframe tbody tr th:only-of-type {\n",
       "        vertical-align: middle;\n",
       "    }\n",
       "\n",
       "    .dataframe tbody tr th {\n",
       "        vertical-align: top;\n",
       "    }\n",
       "\n",
       "    .dataframe thead th {\n",
       "        text-align: right;\n",
       "    }\n",
       "</style>\n",
       "<table border=\"1\" class=\"dataframe\">\n",
       "  <thead>\n",
       "    <tr style=\"text-align: right;\">\n",
       "      <th></th>\n",
       "      <th>id</th>\n",
       "      <th>source</th>\n",
       "      <th>title</th>\n",
       "      <th>image</th>\n",
       "      <th>url</th>\n",
       "      <th>content</th>\n",
       "      <th>date</th>\n",
       "      <th>embedding</th>\n",
       "      <th>created_at</th>\n",
       "      <th>updated_at</th>\n",
       "      <th>summary</th>\n",
       "    </tr>\n",
       "  </thead>\n",
       "  <tbody>\n",
       "    <tr>\n",
       "      <th>0</th>\n",
       "      <td>83</td>\n",
       "      <td>tempo</td>\n",
       "      <td>Depo Plumpang Terbakar, Anggota DPR Minta Pert...</td>\n",
       "      <td>https://statik.tempo.co/data/2023/03/04/id_118...</td>\n",
       "      <td>https://nasional.tempo.co/read/1698528/depo-pl...</td>\n",
       "      <td>TEMPO.CO, Jakarta - Anggota Komisi VII DPR RI ...</td>\n",
       "      <td>2023-03-04 06:18:13+00</td>\n",
       "      <td>[-0.01590039,-0.034130897,0.005732614,-0.01853...</td>\n",
       "      <td>2023-03-04 07:03:39.039332</td>\n",
       "      <td>2023-03-04 07:03:39.039332</td>\n",
       "      <td>Anggota Komisi VII DPR RI Rofik Hananto menyay...</td>\n",
       "    </tr>\n",
       "    <tr>\n",
       "      <th>1</th>\n",
       "      <td>84</td>\n",
       "      <td>tempo</td>\n",
       "      <td>Jokowi Perintahkan Wapres Ma'ruf Amin Tinjau L...</td>\n",
       "      <td>https://statik.tempo.co/data/2023/03/04/id_118...</td>\n",
       "      <td>https://nasional.tempo.co/read/1698522/jokowi-...</td>\n",
       "      <td>TEMPO.CO, Jakarta - Presiden Joko Widodo atau ...</td>\n",
       "      <td>2023-03-04 06:04:38+00</td>\n",
       "      <td>[-0.017608976,-0.021786924,0.01547983,-0.00932...</td>\n",
       "      <td>2023-03-04 07:03:39.039332</td>\n",
       "      <td>2023-03-04 07:03:39.039332</td>\n",
       "      <td>Presiden Joko Widodo telah memerintahkan Wakil...</td>\n",
       "    </tr>\n",
       "    <tr>\n",
       "      <th>2</th>\n",
       "      <td>85</td>\n",
       "      <td>tempo</td>\n",
       "      <td>HNW Mendukung Jamaah Umroh First Travel Dapatk...</td>\n",
       "      <td>https://statik.tempo.co/data/2023/03/04/id_118...</td>\n",
       "      <td>https://nasional.tempo.co/read/1698527/hnw-men...</td>\n",
       "      <td>INFO NASIONAL - Wakil Ketua MPR RI Dr. H. M. H...</td>\n",
       "      <td>2023-03-04 06:18:04+00</td>\n",
       "      <td>[0.00841488,-0.023665192,0.006762431,-0.013723...</td>\n",
       "      <td>2023-03-04 07:03:39.039332</td>\n",
       "      <td>2023-03-04 07:03:39.039332</td>\n",
       "      <td>Wakil Ketua MPR RI Dr. H. M. Hidayat Nur Wahid...</td>\n",
       "    </tr>\n",
       "    <tr>\n",
       "      <th>3</th>\n",
       "      <td>86</td>\n",
       "      <td>tempo</td>\n",
       "      <td>Tim Dokkes Polri Telah Terima 14 Kantong Jenaz...</td>\n",
       "      <td>https://statik.tempo.co/data/2023/03/04/id_118...</td>\n",
       "      <td>https://nasional.tempo.co/read/1698540/tim-dok...</td>\n",
       "      <td>TEMPO.CO, Jakarta - Tim Kedokteran dan Kesehat...</td>\n",
       "      <td>2023-03-04 06:44:10+00</td>\n",
       "      <td>[-0.012671886,-0.0039057182,0.019575326,-0.016...</td>\n",
       "      <td>2023-03-04 07:03:39.039332</td>\n",
       "      <td>2023-03-04 07:03:39.039332</td>\n",
       "      <td>Tim Kedokteran dan Kesehatan (Dokkes) Polri te...</td>\n",
       "    </tr>\n",
       "    <tr>\n",
       "      <th>4</th>\n",
       "      <td>87</td>\n",
       "      <td>tempo</td>\n",
       "      <td>Bamsoet Ajak Komunitas Otomotif Kembangkan Per...</td>\n",
       "      <td>https://statik.tempo.co/data/2023/03/04/id_118...</td>\n",
       "      <td>https://nasional.tempo.co/read/1698536/bamsoet...</td>\n",
       "      <td>INFO NASIONAL - Ketua MPR RI sekaligus Ketua U...</td>\n",
       "      <td>2023-03-04 06:38:57+00</td>\n",
       "      <td>[-0.015486176,-0.0125719,-0.0122843925,-0.0343...</td>\n",
       "      <td>2023-03-04 07:03:39.039332</td>\n",
       "      <td>2023-03-04 07:03:39.039332</td>\n",
       "      <td>Ketua MPR RI Bambang Soesatyo telah diangkat s...</td>\n",
       "    </tr>\n",
       "  </tbody>\n",
       "</table>\n",
       "</div>"
      ],
      "text/plain": [
       "   id source                                              title  \\\n",
       "0  83  tempo  Depo Plumpang Terbakar, Anggota DPR Minta Pert...   \n",
       "1  84  tempo  Jokowi Perintahkan Wapres Ma'ruf Amin Tinjau L...   \n",
       "2  85  tempo  HNW Mendukung Jamaah Umroh First Travel Dapatk...   \n",
       "3  86  tempo  Tim Dokkes Polri Telah Terima 14 Kantong Jenaz...   \n",
       "4  87  tempo  Bamsoet Ajak Komunitas Otomotif Kembangkan Per...   \n",
       "\n",
       "                                               image  \\\n",
       "0  https://statik.tempo.co/data/2023/03/04/id_118...   \n",
       "1  https://statik.tempo.co/data/2023/03/04/id_118...   \n",
       "2  https://statik.tempo.co/data/2023/03/04/id_118...   \n",
       "3  https://statik.tempo.co/data/2023/03/04/id_118...   \n",
       "4  https://statik.tempo.co/data/2023/03/04/id_118...   \n",
       "\n",
       "                                                 url  \\\n",
       "0  https://nasional.tempo.co/read/1698528/depo-pl...   \n",
       "1  https://nasional.tempo.co/read/1698522/jokowi-...   \n",
       "2  https://nasional.tempo.co/read/1698527/hnw-men...   \n",
       "3  https://nasional.tempo.co/read/1698540/tim-dok...   \n",
       "4  https://nasional.tempo.co/read/1698536/bamsoet...   \n",
       "\n",
       "                                             content                    date  \\\n",
       "0  TEMPO.CO, Jakarta - Anggota Komisi VII DPR RI ...  2023-03-04 06:18:13+00   \n",
       "1  TEMPO.CO, Jakarta - Presiden Joko Widodo atau ...  2023-03-04 06:04:38+00   \n",
       "2  INFO NASIONAL - Wakil Ketua MPR RI Dr. H. M. H...  2023-03-04 06:18:04+00   \n",
       "3  TEMPO.CO, Jakarta - Tim Kedokteran dan Kesehat...  2023-03-04 06:44:10+00   \n",
       "4  INFO NASIONAL - Ketua MPR RI sekaligus Ketua U...  2023-03-04 06:38:57+00   \n",
       "\n",
       "                                           embedding  \\\n",
       "0  [-0.01590039,-0.034130897,0.005732614,-0.01853...   \n",
       "1  [-0.017608976,-0.021786924,0.01547983,-0.00932...   \n",
       "2  [0.00841488,-0.023665192,0.006762431,-0.013723...   \n",
       "3  [-0.012671886,-0.0039057182,0.019575326,-0.016...   \n",
       "4  [-0.015486176,-0.0125719,-0.0122843925,-0.0343...   \n",
       "\n",
       "                   created_at                  updated_at  \\\n",
       "0  2023-03-04 07:03:39.039332  2023-03-04 07:03:39.039332   \n",
       "1  2023-03-04 07:03:39.039332  2023-03-04 07:03:39.039332   \n",
       "2  2023-03-04 07:03:39.039332  2023-03-04 07:03:39.039332   \n",
       "3  2023-03-04 07:03:39.039332  2023-03-04 07:03:39.039332   \n",
       "4  2023-03-04 07:03:39.039332  2023-03-04 07:03:39.039332   \n",
       "\n",
       "                                             summary  \n",
       "0  Anggota Komisi VII DPR RI Rofik Hananto menyay...  \n",
       "1  Presiden Joko Widodo telah memerintahkan Wakil...  \n",
       "2  Wakil Ketua MPR RI Dr. H. M. Hidayat Nur Wahid...  \n",
       "3  Tim Kedokteran dan Kesehatan (Dokkes) Polri te...  \n",
       "4  Ketua MPR RI Bambang Soesatyo telah diangkat s...  "
      ]
     },
     "metadata": {},
     "output_type": "display_data"
    }
   ],
   "source": [
    "file_path = 'data.csv'\n",
    "df = pd.read_csv(file_path)\n",
    "print(\"Initial Data:\")\n",
    "display(df.head())"
   ]
  },
  {
   "cell_type": "code",
   "execution_count": 3,
   "id": "7cc2227d",
   "metadata": {},
   "outputs": [
    {
     "name": "stdout",
     "output_type": "stream",
     "text": [
      "\n",
      "After Dropping Unnecessary Columns:\n"
     ]
    },
    {
     "data": {
      "text/html": [
       "<div>\n",
       "<style scoped>\n",
       "    .dataframe tbody tr th:only-of-type {\n",
       "        vertical-align: middle;\n",
       "    }\n",
       "\n",
       "    .dataframe tbody tr th {\n",
       "        vertical-align: top;\n",
       "    }\n",
       "\n",
       "    .dataframe thead th {\n",
       "        text-align: right;\n",
       "    }\n",
       "</style>\n",
       "<table border=\"1\" class=\"dataframe\">\n",
       "  <thead>\n",
       "    <tr style=\"text-align: right;\">\n",
       "      <th></th>\n",
       "      <th>id</th>\n",
       "      <th>source</th>\n",
       "      <th>title</th>\n",
       "      <th>content</th>\n",
       "      <th>date</th>\n",
       "      <th>summary</th>\n",
       "    </tr>\n",
       "  </thead>\n",
       "  <tbody>\n",
       "    <tr>\n",
       "      <th>0</th>\n",
       "      <td>83</td>\n",
       "      <td>tempo</td>\n",
       "      <td>Depo Plumpang Terbakar, Anggota DPR Minta Pert...</td>\n",
       "      <td>TEMPO.CO, Jakarta - Anggota Komisi VII DPR RI ...</td>\n",
       "      <td>2023-03-04 06:18:13+00</td>\n",
       "      <td>Anggota Komisi VII DPR RI Rofik Hananto menyay...</td>\n",
       "    </tr>\n",
       "    <tr>\n",
       "      <th>1</th>\n",
       "      <td>84</td>\n",
       "      <td>tempo</td>\n",
       "      <td>Jokowi Perintahkan Wapres Ma'ruf Amin Tinjau L...</td>\n",
       "      <td>TEMPO.CO, Jakarta - Presiden Joko Widodo atau ...</td>\n",
       "      <td>2023-03-04 06:04:38+00</td>\n",
       "      <td>Presiden Joko Widodo telah memerintahkan Wakil...</td>\n",
       "    </tr>\n",
       "    <tr>\n",
       "      <th>2</th>\n",
       "      <td>85</td>\n",
       "      <td>tempo</td>\n",
       "      <td>HNW Mendukung Jamaah Umroh First Travel Dapatk...</td>\n",
       "      <td>INFO NASIONAL - Wakil Ketua MPR RI Dr. H. M. H...</td>\n",
       "      <td>2023-03-04 06:18:04+00</td>\n",
       "      <td>Wakil Ketua MPR RI Dr. H. M. Hidayat Nur Wahid...</td>\n",
       "    </tr>\n",
       "    <tr>\n",
       "      <th>3</th>\n",
       "      <td>86</td>\n",
       "      <td>tempo</td>\n",
       "      <td>Tim Dokkes Polri Telah Terima 14 Kantong Jenaz...</td>\n",
       "      <td>TEMPO.CO, Jakarta - Tim Kedokteran dan Kesehat...</td>\n",
       "      <td>2023-03-04 06:44:10+00</td>\n",
       "      <td>Tim Kedokteran dan Kesehatan (Dokkes) Polri te...</td>\n",
       "    </tr>\n",
       "    <tr>\n",
       "      <th>4</th>\n",
       "      <td>87</td>\n",
       "      <td>tempo</td>\n",
       "      <td>Bamsoet Ajak Komunitas Otomotif Kembangkan Per...</td>\n",
       "      <td>INFO NASIONAL - Ketua MPR RI sekaligus Ketua U...</td>\n",
       "      <td>2023-03-04 06:38:57+00</td>\n",
       "      <td>Ketua MPR RI Bambang Soesatyo telah diangkat s...</td>\n",
       "    </tr>\n",
       "  </tbody>\n",
       "</table>\n",
       "</div>"
      ],
      "text/plain": [
       "   id source                                              title  \\\n",
       "0  83  tempo  Depo Plumpang Terbakar, Anggota DPR Minta Pert...   \n",
       "1  84  tempo  Jokowi Perintahkan Wapres Ma'ruf Amin Tinjau L...   \n",
       "2  85  tempo  HNW Mendukung Jamaah Umroh First Travel Dapatk...   \n",
       "3  86  tempo  Tim Dokkes Polri Telah Terima 14 Kantong Jenaz...   \n",
       "4  87  tempo  Bamsoet Ajak Komunitas Otomotif Kembangkan Per...   \n",
       "\n",
       "                                             content                    date  \\\n",
       "0  TEMPO.CO, Jakarta - Anggota Komisi VII DPR RI ...  2023-03-04 06:18:13+00   \n",
       "1  TEMPO.CO, Jakarta - Presiden Joko Widodo atau ...  2023-03-04 06:04:38+00   \n",
       "2  INFO NASIONAL - Wakil Ketua MPR RI Dr. H. M. H...  2023-03-04 06:18:04+00   \n",
       "3  TEMPO.CO, Jakarta - Tim Kedokteran dan Kesehat...  2023-03-04 06:44:10+00   \n",
       "4  INFO NASIONAL - Ketua MPR RI sekaligus Ketua U...  2023-03-04 06:38:57+00   \n",
       "\n",
       "                                             summary  \n",
       "0  Anggota Komisi VII DPR RI Rofik Hananto menyay...  \n",
       "1  Presiden Joko Widodo telah memerintahkan Wakil...  \n",
       "2  Wakil Ketua MPR RI Dr. H. M. Hidayat Nur Wahid...  \n",
       "3  Tim Kedokteran dan Kesehatan (Dokkes) Polri te...  \n",
       "4  Ketua MPR RI Bambang Soesatyo telah diangkat s...  "
      ]
     },
     "metadata": {},
     "output_type": "display_data"
    }
   ],
   "source": [
    "columns_to_drop = ['image', 'url', 'embedding', 'created_at', 'updated_at']\n",
    "df.drop(columns=columns_to_drop, inplace=True)\n",
    "print(\"\\nAfter Dropping Unnecessary Columns:\")\n",
    "display(df.head())"
   ]
  },
  {
   "cell_type": "code",
   "execution_count": 4,
   "id": "6faa0e3c",
   "metadata": {},
   "outputs": [
    {
     "name": "stdout",
     "output_type": "stream",
     "text": [
      "\n",
      "After Renaming Columns:\n"
     ]
    },
    {
     "data": {
      "text/html": [
       "<div>\n",
       "<style scoped>\n",
       "    .dataframe tbody tr th:only-of-type {\n",
       "        vertical-align: middle;\n",
       "    }\n",
       "\n",
       "    .dataframe tbody tr th {\n",
       "        vertical-align: top;\n",
       "    }\n",
       "\n",
       "    .dataframe thead th {\n",
       "        text-align: right;\n",
       "    }\n",
       "</style>\n",
       "<table border=\"1\" class=\"dataframe\">\n",
       "  <thead>\n",
       "    <tr style=\"text-align: right;\">\n",
       "      <th></th>\n",
       "      <th>record_id</th>\n",
       "      <th>news_source</th>\n",
       "      <th>title</th>\n",
       "      <th>content</th>\n",
       "      <th>publication_date</th>\n",
       "      <th>summary</th>\n",
       "    </tr>\n",
       "  </thead>\n",
       "  <tbody>\n",
       "    <tr>\n",
       "      <th>0</th>\n",
       "      <td>83</td>\n",
       "      <td>tempo</td>\n",
       "      <td>Depo Plumpang Terbakar, Anggota DPR Minta Pert...</td>\n",
       "      <td>TEMPO.CO, Jakarta - Anggota Komisi VII DPR RI ...</td>\n",
       "      <td>2023-03-04 06:18:13+00</td>\n",
       "      <td>Anggota Komisi VII DPR RI Rofik Hananto menyay...</td>\n",
       "    </tr>\n",
       "    <tr>\n",
       "      <th>1</th>\n",
       "      <td>84</td>\n",
       "      <td>tempo</td>\n",
       "      <td>Jokowi Perintahkan Wapres Ma'ruf Amin Tinjau L...</td>\n",
       "      <td>TEMPO.CO, Jakarta - Presiden Joko Widodo atau ...</td>\n",
       "      <td>2023-03-04 06:04:38+00</td>\n",
       "      <td>Presiden Joko Widodo telah memerintahkan Wakil...</td>\n",
       "    </tr>\n",
       "    <tr>\n",
       "      <th>2</th>\n",
       "      <td>85</td>\n",
       "      <td>tempo</td>\n",
       "      <td>HNW Mendukung Jamaah Umroh First Travel Dapatk...</td>\n",
       "      <td>INFO NASIONAL - Wakil Ketua MPR RI Dr. H. M. H...</td>\n",
       "      <td>2023-03-04 06:18:04+00</td>\n",
       "      <td>Wakil Ketua MPR RI Dr. H. M. Hidayat Nur Wahid...</td>\n",
       "    </tr>\n",
       "    <tr>\n",
       "      <th>3</th>\n",
       "      <td>86</td>\n",
       "      <td>tempo</td>\n",
       "      <td>Tim Dokkes Polri Telah Terima 14 Kantong Jenaz...</td>\n",
       "      <td>TEMPO.CO, Jakarta - Tim Kedokteran dan Kesehat...</td>\n",
       "      <td>2023-03-04 06:44:10+00</td>\n",
       "      <td>Tim Kedokteran dan Kesehatan (Dokkes) Polri te...</td>\n",
       "    </tr>\n",
       "    <tr>\n",
       "      <th>4</th>\n",
       "      <td>87</td>\n",
       "      <td>tempo</td>\n",
       "      <td>Bamsoet Ajak Komunitas Otomotif Kembangkan Per...</td>\n",
       "      <td>INFO NASIONAL - Ketua MPR RI sekaligus Ketua U...</td>\n",
       "      <td>2023-03-04 06:38:57+00</td>\n",
       "      <td>Ketua MPR RI Bambang Soesatyo telah diangkat s...</td>\n",
       "    </tr>\n",
       "  </tbody>\n",
       "</table>\n",
       "</div>"
      ],
      "text/plain": [
       "   record_id news_source                                              title  \\\n",
       "0         83       tempo  Depo Plumpang Terbakar, Anggota DPR Minta Pert...   \n",
       "1         84       tempo  Jokowi Perintahkan Wapres Ma'ruf Amin Tinjau L...   \n",
       "2         85       tempo  HNW Mendukung Jamaah Umroh First Travel Dapatk...   \n",
       "3         86       tempo  Tim Dokkes Polri Telah Terima 14 Kantong Jenaz...   \n",
       "4         87       tempo  Bamsoet Ajak Komunitas Otomotif Kembangkan Per...   \n",
       "\n",
       "                                             content        publication_date  \\\n",
       "0  TEMPO.CO, Jakarta - Anggota Komisi VII DPR RI ...  2023-03-04 06:18:13+00   \n",
       "1  TEMPO.CO, Jakarta - Presiden Joko Widodo atau ...  2023-03-04 06:04:38+00   \n",
       "2  INFO NASIONAL - Wakil Ketua MPR RI Dr. H. M. H...  2023-03-04 06:18:04+00   \n",
       "3  TEMPO.CO, Jakarta - Tim Kedokteran dan Kesehat...  2023-03-04 06:44:10+00   \n",
       "4  INFO NASIONAL - Ketua MPR RI sekaligus Ketua U...  2023-03-04 06:38:57+00   \n",
       "\n",
       "                                             summary  \n",
       "0  Anggota Komisi VII DPR RI Rofik Hananto menyay...  \n",
       "1  Presiden Joko Widodo telah memerintahkan Wakil...  \n",
       "2  Wakil Ketua MPR RI Dr. H. M. Hidayat Nur Wahid...  \n",
       "3  Tim Kedokteran dan Kesehatan (Dokkes) Polri te...  \n",
       "4  Ketua MPR RI Bambang Soesatyo telah diangkat s...  "
      ]
     },
     "metadata": {},
     "output_type": "display_data"
    }
   ],
   "source": [
    "columns_rename_map = {\n",
    "    'id': 'record_id',\n",
    "    'source': 'news_source',\n",
    "    'date': 'publication_date'\n",
    "}\n",
    "df.rename(columns=columns_rename_map, inplace=True)\n",
    "print(\"\\nAfter Renaming Columns:\")\n",
    "display(df.head())\n"
   ]
  },
  {
   "cell_type": "code",
   "execution_count": 5,
   "id": "1267097a",
   "metadata": {},
   "outputs": [
    {
     "data": {
      "text/html": [
       "<div>\n",
       "<style scoped>\n",
       "    .dataframe tbody tr th:only-of-type {\n",
       "        vertical-align: middle;\n",
       "    }\n",
       "\n",
       "    .dataframe tbody tr th {\n",
       "        vertical-align: top;\n",
       "    }\n",
       "\n",
       "    .dataframe thead th {\n",
       "        text-align: right;\n",
       "    }\n",
       "</style>\n",
       "<table border=\"1\" class=\"dataframe\">\n",
       "  <thead>\n",
       "    <tr style=\"text-align: right;\">\n",
       "      <th></th>\n",
       "      <th>record_id</th>\n",
       "      <th>news_source</th>\n",
       "      <th>title</th>\n",
       "      <th>content</th>\n",
       "      <th>publication_date</th>\n",
       "      <th>summary</th>\n",
       "    </tr>\n",
       "  </thead>\n",
       "  <tbody>\n",
       "    <tr>\n",
       "      <th>0</th>\n",
       "      <td>83</td>\n",
       "      <td>tempo</td>\n",
       "      <td>Depo Plumpang Terbakar, Anggota DPR Minta Pert...</td>\n",
       "      <td>TEMPO.CO, Jakarta - Anggota Komisi VII DPR RI ...</td>\n",
       "      <td>2023-03-04 06:18:13+00</td>\n",
       "      <td>Anggota Komisi VII DPR RI Rofik Hananto menyay...</td>\n",
       "    </tr>\n",
       "    <tr>\n",
       "      <th>1</th>\n",
       "      <td>84</td>\n",
       "      <td>tempo</td>\n",
       "      <td>Jokowi Perintahkan Wapres Ma'ruf Amin Tinjau L...</td>\n",
       "      <td>TEMPO.CO, Jakarta - Presiden Joko Widodo atau ...</td>\n",
       "      <td>2023-03-04 06:04:38+00</td>\n",
       "      <td>Presiden Joko Widodo telah memerintahkan Wakil...</td>\n",
       "    </tr>\n",
       "    <tr>\n",
       "      <th>2</th>\n",
       "      <td>85</td>\n",
       "      <td>tempo</td>\n",
       "      <td>HNW Mendukung Jamaah Umroh First Travel Dapatk...</td>\n",
       "      <td>INFO NASIONAL - Wakil Ketua MPR RI Dr. H. M. H...</td>\n",
       "      <td>2023-03-04 06:18:04+00</td>\n",
       "      <td>Wakil Ketua MPR RI Dr. H. M. Hidayat Nur Wahid...</td>\n",
       "    </tr>\n",
       "    <tr>\n",
       "      <th>3</th>\n",
       "      <td>86</td>\n",
       "      <td>tempo</td>\n",
       "      <td>Tim Dokkes Polri Telah Terima 14 Kantong Jenaz...</td>\n",
       "      <td>TEMPO.CO, Jakarta - Tim Kedokteran dan Kesehat...</td>\n",
       "      <td>2023-03-04 06:44:10+00</td>\n",
       "      <td>Tim Kedokteran dan Kesehatan (Dokkes) Polri te...</td>\n",
       "    </tr>\n",
       "    <tr>\n",
       "      <th>4</th>\n",
       "      <td>87</td>\n",
       "      <td>tempo</td>\n",
       "      <td>Bamsoet Ajak Komunitas Otomotif Kembangkan Per...</td>\n",
       "      <td>INFO NASIONAL - Ketua MPR RI sekaligus Ketua U...</td>\n",
       "      <td>2023-03-04 06:38:57+00</td>\n",
       "      <td>Ketua MPR RI Bambang Soesatyo telah diangkat s...</td>\n",
       "    </tr>\n",
       "  </tbody>\n",
       "</table>\n",
       "</div>"
      ],
      "text/plain": [
       "   record_id news_source                                              title  \\\n",
       "0         83       tempo  Depo Plumpang Terbakar, Anggota DPR Minta Pert...   \n",
       "1         84       tempo  Jokowi Perintahkan Wapres Ma'ruf Amin Tinjau L...   \n",
       "2         85       tempo  HNW Mendukung Jamaah Umroh First Travel Dapatk...   \n",
       "3         86       tempo  Tim Dokkes Polri Telah Terima 14 Kantong Jenaz...   \n",
       "4         87       tempo  Bamsoet Ajak Komunitas Otomotif Kembangkan Per...   \n",
       "\n",
       "                                             content        publication_date  \\\n",
       "0  TEMPO.CO, Jakarta - Anggota Komisi VII DPR RI ...  2023-03-04 06:18:13+00   \n",
       "1  TEMPO.CO, Jakarta - Presiden Joko Widodo atau ...  2023-03-04 06:04:38+00   \n",
       "2  INFO NASIONAL - Wakil Ketua MPR RI Dr. H. M. H...  2023-03-04 06:18:04+00   \n",
       "3  TEMPO.CO, Jakarta - Tim Kedokteran dan Kesehat...  2023-03-04 06:44:10+00   \n",
       "4  INFO NASIONAL - Ketua MPR RI sekaligus Ketua U...  2023-03-04 06:38:57+00   \n",
       "\n",
       "                                             summary  \n",
       "0  Anggota Komisi VII DPR RI Rofik Hananto menyay...  \n",
       "1  Presiden Joko Widodo telah memerintahkan Wakil...  \n",
       "2  Wakil Ketua MPR RI Dr. H. M. Hidayat Nur Wahid...  \n",
       "3  Tim Kedokteran dan Kesehatan (Dokkes) Polri te...  \n",
       "4  Ketua MPR RI Bambang Soesatyo telah diangkat s...  "
      ]
     },
     "execution_count": 5,
     "metadata": {},
     "output_type": "execute_result"
    }
   ],
   "source": [
    "df.head()"
   ]
  },
  {
   "cell_type": "code",
   "execution_count": 6,
   "id": "a3c8a16f",
   "metadata": {},
   "outputs": [
    {
     "data": {
      "text/html": [
       "<div>\n",
       "<style scoped>\n",
       "    .dataframe tbody tr th:only-of-type {\n",
       "        vertical-align: middle;\n",
       "    }\n",
       "\n",
       "    .dataframe tbody tr th {\n",
       "        vertical-align: top;\n",
       "    }\n",
       "\n",
       "    .dataframe thead th {\n",
       "        text-align: right;\n",
       "    }\n",
       "</style>\n",
       "<table border=\"1\" class=\"dataframe\">\n",
       "  <thead>\n",
       "    <tr style=\"text-align: right;\">\n",
       "      <th></th>\n",
       "      <th>record_id</th>\n",
       "      <th>news_source</th>\n",
       "      <th>title</th>\n",
       "      <th>content</th>\n",
       "      <th>publication_date</th>\n",
       "      <th>summary</th>\n",
       "    </tr>\n",
       "  </thead>\n",
       "  <tbody>\n",
       "    <tr>\n",
       "      <th>0</th>\n",
       "      <td>83</td>\n",
       "      <td>tempo</td>\n",
       "      <td>depo plumpang terbakar, anggota dpr minta pert...</td>\n",
       "      <td>tempo.co, jakarta - anggota komisi 7 dpr ri ro...</td>\n",
       "      <td>2023-03-04 06:18:13+00</td>\n",
       "      <td>anggota komisi 7 dpr ri rofik hananto menyayan...</td>\n",
       "    </tr>\n",
       "    <tr>\n",
       "      <th>1</th>\n",
       "      <td>84</td>\n",
       "      <td>tempo</td>\n",
       "      <td>jokowi perintahkan wapres ma'ruf amin tinjau l...</td>\n",
       "      <td>tempo.co, jakarta - presiden joko widodo atau ...</td>\n",
       "      <td>2023-03-04 06:04:38+00</td>\n",
       "      <td>presiden joko widodo telah memerintahkan wakil...</td>\n",
       "    </tr>\n",
       "    <tr>\n",
       "      <th>2</th>\n",
       "      <td>85</td>\n",
       "      <td>tempo</td>\n",
       "      <td>hnw mendukung jamaah umroh first travel dapatk...</td>\n",
       "      <td>info nasional - wakil ketua mpr ri dr. h. m. h...</td>\n",
       "      <td>2023-03-04 06:18:04+00</td>\n",
       "      <td>wakil ketua mpr ri dr. h. m. hidayat nur wahid...</td>\n",
       "    </tr>\n",
       "    <tr>\n",
       "      <th>3</th>\n",
       "      <td>86</td>\n",
       "      <td>tempo</td>\n",
       "      <td>tim dokkes polri telah terima 14 kantong jenaz...</td>\n",
       "      <td>tempo.co, jakarta - tim kedokteran dan kesehat...</td>\n",
       "      <td>2023-03-04 06:44:10+00</td>\n",
       "      <td>tim kedokteran dan kesehatan (dokkes) polri te...</td>\n",
       "    </tr>\n",
       "    <tr>\n",
       "      <th>4</th>\n",
       "      <td>87</td>\n",
       "      <td>tempo</td>\n",
       "      <td>bamsoet ajak komunitas otomotif kembangkan per...</td>\n",
       "      <td>info nasional - ketua mpr ri sekaligus ketua u...</td>\n",
       "      <td>2023-03-04 06:38:57+00</td>\n",
       "      <td>ketua mpr ri bambang soesatyo telah diangkat s...</td>\n",
       "    </tr>\n",
       "  </tbody>\n",
       "</table>\n",
       "</div>"
      ],
      "text/plain": [
       "   record_id news_source                                              title  \\\n",
       "0         83       tempo  depo plumpang terbakar, anggota dpr minta pert...   \n",
       "1         84       tempo  jokowi perintahkan wapres ma'ruf amin tinjau l...   \n",
       "2         85       tempo  hnw mendukung jamaah umroh first travel dapatk...   \n",
       "3         86       tempo  tim dokkes polri telah terima 14 kantong jenaz...   \n",
       "4         87       tempo  bamsoet ajak komunitas otomotif kembangkan per...   \n",
       "\n",
       "                                             content        publication_date  \\\n",
       "0  tempo.co, jakarta - anggota komisi 7 dpr ri ro...  2023-03-04 06:18:13+00   \n",
       "1  tempo.co, jakarta - presiden joko widodo atau ...  2023-03-04 06:04:38+00   \n",
       "2  info nasional - wakil ketua mpr ri dr. h. m. h...  2023-03-04 06:18:04+00   \n",
       "3  tempo.co, jakarta - tim kedokteran dan kesehat...  2023-03-04 06:44:10+00   \n",
       "4  info nasional - ketua mpr ri sekaligus ketua u...  2023-03-04 06:38:57+00   \n",
       "\n",
       "                                             summary  \n",
       "0  anggota komisi 7 dpr ri rofik hananto menyayan...  \n",
       "1  presiden joko widodo telah memerintahkan wakil...  \n",
       "2  wakil ketua mpr ri dr. h. m. hidayat nur wahid...  \n",
       "3  tim kedokteran dan kesehatan (dokkes) polri te...  \n",
       "4  ketua mpr ri bambang soesatyo telah diangkat s...  "
      ]
     },
     "metadata": {},
     "output_type": "display_data"
    }
   ],
   "source": [
    "def roman_to_int(roman):\n",
    "    roman_map = {\n",
    "        'I': 1, 'II': 2, 'III': 3, 'IV': 4, \n",
    "        'V': 5, 'VI': 6, 'VII': 7, 'VIII': 8, \n",
    "        'IX': 9, 'X': 10\n",
    "    }\n",
    "\n",
    "    return roman_map.get(roman, roman)\n",
    "\n",
    "\n",
    "def convert_roman_to_int(text):\n",
    "    def replace_roman(match):\n",
    "        roman_numeral = match.group(0)\n",
    "        return str(roman_to_int(roman_numeral))  # Convert Roman numeral to integer\n",
    "    \n",
    "\n",
    "    return re.sub(r'\\b(I|II|III|IV|V|VI|VII|VIII|IX|X)\\b', replace_roman, text)\n",
    "\n",
    "\n",
    "for col in ['title', 'content', 'summary']:\n",
    "    df[col] = df[col].apply(lambda x: convert_roman_to_int(x) if isinstance(x, str) else x)\n",
    "    df[col] = df[col].str.lower()  # Convert to lowercase\n",
    "\n",
    "\n",
    "display(df.head())\n"
   ]
  },
  {
   "cell_type": "code",
   "execution_count": 7,
   "id": "73fa3ab4",
   "metadata": {},
   "outputs": [
    {
     "name": "stdout",
     "output_type": "stream",
     "text": [
      "       record_id news_source  \\\n",
      "0             83       tempo   \n",
      "1             84       tempo   \n",
      "2             85       tempo   \n",
      "3             86       tempo   \n",
      "4             87       tempo   \n",
      "...          ...         ...   \n",
      "32730      63563    kumparan   \n",
      "32731      63564    kumparan   \n",
      "32732      63565    kumparan   \n",
      "32733      63566    kumparan   \n",
      "32734      63567       tempo   \n",
      "\n",
      "                                                   title  \\\n",
      "0      depo plumpang terbakar, anggota dpr minta pert...   \n",
      "1      jokowi perintahkan wapres ma'ruf amin tinjau l...   \n",
      "2      hnw mendukung jamaah umroh first travel dapatk...   \n",
      "3      tim dokkes polri telah terima 14 kantong jenaz...   \n",
      "4      bamsoet ajak komunitas otomotif kembangkan per...   \n",
      "...                                                  ...   \n",
      "32730  5 hewan aneh yang hidup di palung mariana, sal...   \n",
      "32731  biadab! guru sd di banyuwangi cabuli siswinya,...   \n",
      "32732  aji santoso: jakmania perlakukan persebaya den...   \n",
      "32733  sopir audi cium kaki ibu & istri hamil usai si...   \n",
      "32734          ini besaran biaya haji 2023 per embarkasi   \n",
      "\n",
      "                                                 content  \\\n",
      "0      tempo.co, jakarta - anggota komisi 7 dpr ri ro...   \n",
      "1      tempo.co, jakarta - presiden joko widodo atau ...   \n",
      "2      info nasional - wakil ketua mpr ri dr. h. m. h...   \n",
      "3      tempo.co, jakarta - tim kedokteran dan kesehat...   \n",
      "4      info nasional - ketua mpr ri sekaligus ketua u...   \n",
      "...                                                  ...   \n",
      "32730  menjadi salah satu lubang terdalam dan tergela...   \n",
      "32731  seorang guru sd di banyuwangi ditangkap oleh p...   \n",
      "32732  pelatih , aji santoso, salut dengan sambutan s...   \n",
      "32733  suasana haru terjadi usai sidang terdakwa suge...   \n",
      "32734  tempo.co, jakarta - presiden joko widodo telah...   \n",
      "\n",
      "             publication_date  \\\n",
      "0      2023-03-04 06:18:13+00   \n",
      "1      2023-03-04 06:04:38+00   \n",
      "2      2023-03-04 06:18:04+00   \n",
      "3      2023-03-04 06:44:10+00   \n",
      "4      2023-03-04 06:38:57+00   \n",
      "...                       ...   \n",
      "32730  2023-04-11 20:13:25+00   \n",
      "32731  2023-04-11 20:05:30+00   \n",
      "32732  2023-04-11 19:37:49+00   \n",
      "32733  2023-04-11 19:24:07+00   \n",
      "32734  2023-04-11 20:00:00+00   \n",
      "\n",
      "                                                 summary  Status  \n",
      "0      anggota komisi 7 dpr ri rofik hananto menyayan...       1  \n",
      "1      presiden joko widodo telah memerintahkan wakil...       1  \n",
      "2      wakil ketua mpr ri dr. h. m. hidayat nur wahid...       1  \n",
      "3      tim kedokteran dan kesehatan (dokkes) polri te...       1  \n",
      "4      ketua mpr ri bambang soesatyo telah diangkat s...       1  \n",
      "...                                                  ...     ...  \n",
      "32730  peneliti berhasil mengungkap sedikit demi sedi...       1  \n",
      "32731  seorang guru sd di banyuwangi ditangkap polisi...       1  \n",
      "32732  pelatih persebaya, aji santoso, menyampaikan s...       1  \n",
      "32733  sugeng guruh gautama legiman, terdakwa kasus k...       1  \n",
      "32734  presiden jokowi telah menetapkan besaran biaya...       1  \n",
      "\n",
      "[32735 rows x 7 columns]\n"
     ]
    }
   ],
   "source": [
    "df['Status'] = 1\n",
    "\n",
    "print(df)"
   ]
  },
  {
   "cell_type": "code",
   "execution_count": 8,
   "id": "c846f5a8",
   "metadata": {},
   "outputs": [
    {
     "name": "stdout",
     "output_type": "stream",
     "text": [
      "\n",
      "Cleaned data saved to cleaned_data.csv\n"
     ]
    },
    {
     "data": {
      "text/html": [
       "<div>\n",
       "<style scoped>\n",
       "    .dataframe tbody tr th:only-of-type {\n",
       "        vertical-align: middle;\n",
       "    }\n",
       "\n",
       "    .dataframe tbody tr th {\n",
       "        vertical-align: top;\n",
       "    }\n",
       "\n",
       "    .dataframe thead th {\n",
       "        text-align: right;\n",
       "    }\n",
       "</style>\n",
       "<table border=\"1\" class=\"dataframe\">\n",
       "  <thead>\n",
       "    <tr style=\"text-align: right;\">\n",
       "      <th></th>\n",
       "      <th>record_id</th>\n",
       "      <th>news_source</th>\n",
       "      <th>title</th>\n",
       "      <th>content</th>\n",
       "      <th>publication_date</th>\n",
       "      <th>summary</th>\n",
       "      <th>Status</th>\n",
       "    </tr>\n",
       "  </thead>\n",
       "  <tbody>\n",
       "    <tr>\n",
       "      <th>32730</th>\n",
       "      <td>63563</td>\n",
       "      <td>kumparan</td>\n",
       "      <td>5 hewan aneh yang hidup di palung mariana, sal...</td>\n",
       "      <td>menjadi salah satu lubang terdalam dan tergela...</td>\n",
       "      <td>2023-04-11 20:13:25+00</td>\n",
       "      <td>peneliti berhasil mengungkap sedikit demi sedi...</td>\n",
       "      <td>1</td>\n",
       "    </tr>\n",
       "    <tr>\n",
       "      <th>32731</th>\n",
       "      <td>63564</td>\n",
       "      <td>kumparan</td>\n",
       "      <td>biadab! guru sd di banyuwangi cabuli siswinya,...</td>\n",
       "      <td>seorang guru sd di banyuwangi ditangkap oleh p...</td>\n",
       "      <td>2023-04-11 20:05:30+00</td>\n",
       "      <td>seorang guru sd di banyuwangi ditangkap polisi...</td>\n",
       "      <td>1</td>\n",
       "    </tr>\n",
       "    <tr>\n",
       "      <th>32732</th>\n",
       "      <td>63565</td>\n",
       "      <td>kumparan</td>\n",
       "      <td>aji santoso: jakmania perlakukan persebaya den...</td>\n",
       "      <td>pelatih , aji santoso, salut dengan sambutan s...</td>\n",
       "      <td>2023-04-11 19:37:49+00</td>\n",
       "      <td>pelatih persebaya, aji santoso, menyampaikan s...</td>\n",
       "      <td>1</td>\n",
       "    </tr>\n",
       "    <tr>\n",
       "      <th>32733</th>\n",
       "      <td>63566</td>\n",
       "      <td>kumparan</td>\n",
       "      <td>sopir audi cium kaki ibu &amp; istri hamil usai si...</td>\n",
       "      <td>suasana haru terjadi usai sidang terdakwa suge...</td>\n",
       "      <td>2023-04-11 19:24:07+00</td>\n",
       "      <td>sugeng guruh gautama legiman, terdakwa kasus k...</td>\n",
       "      <td>1</td>\n",
       "    </tr>\n",
       "    <tr>\n",
       "      <th>32734</th>\n",
       "      <td>63567</td>\n",
       "      <td>tempo</td>\n",
       "      <td>ini besaran biaya haji 2023 per embarkasi</td>\n",
       "      <td>tempo.co, jakarta - presiden joko widodo telah...</td>\n",
       "      <td>2023-04-11 20:00:00+00</td>\n",
       "      <td>presiden jokowi telah menetapkan besaran biaya...</td>\n",
       "      <td>1</td>\n",
       "    </tr>\n",
       "  </tbody>\n",
       "</table>\n",
       "</div>"
      ],
      "text/plain": [
       "       record_id news_source  \\\n",
       "32730      63563    kumparan   \n",
       "32731      63564    kumparan   \n",
       "32732      63565    kumparan   \n",
       "32733      63566    kumparan   \n",
       "32734      63567       tempo   \n",
       "\n",
       "                                                   title  \\\n",
       "32730  5 hewan aneh yang hidup di palung mariana, sal...   \n",
       "32731  biadab! guru sd di banyuwangi cabuli siswinya,...   \n",
       "32732  aji santoso: jakmania perlakukan persebaya den...   \n",
       "32733  sopir audi cium kaki ibu & istri hamil usai si...   \n",
       "32734          ini besaran biaya haji 2023 per embarkasi   \n",
       "\n",
       "                                                 content  \\\n",
       "32730  menjadi salah satu lubang terdalam dan tergela...   \n",
       "32731  seorang guru sd di banyuwangi ditangkap oleh p...   \n",
       "32732  pelatih , aji santoso, salut dengan sambutan s...   \n",
       "32733  suasana haru terjadi usai sidang terdakwa suge...   \n",
       "32734  tempo.co, jakarta - presiden joko widodo telah...   \n",
       "\n",
       "             publication_date  \\\n",
       "32730  2023-04-11 20:13:25+00   \n",
       "32731  2023-04-11 20:05:30+00   \n",
       "32732  2023-04-11 19:37:49+00   \n",
       "32733  2023-04-11 19:24:07+00   \n",
       "32734  2023-04-11 20:00:00+00   \n",
       "\n",
       "                                                 summary  Status  \n",
       "32730  peneliti berhasil mengungkap sedikit demi sedi...       1  \n",
       "32731  seorang guru sd di banyuwangi ditangkap polisi...       1  \n",
       "32732  pelatih persebaya, aji santoso, menyampaikan s...       1  \n",
       "32733  sugeng guruh gautama legiman, terdakwa kasus k...       1  \n",
       "32734  presiden jokowi telah menetapkan besaran biaya...       1  "
      ]
     },
     "execution_count": 8,
     "metadata": {},
     "output_type": "execute_result"
    }
   ],
   "source": [
    "cleaned_file_path = 'cleaned_data.csv'\n",
    "df.to_csv(cleaned_file_path, index=False)\n",
    "print(f\"\\nCleaned data saved to {cleaned_file_path}\")\n",
    "df.tail()"
   ]
  },
  {
   "cell_type": "code",
   "execution_count": 9,
   "id": "e15ae402",
   "metadata": {},
   "outputs": [
    {
     "name": "stdout",
     "output_type": "stream",
     "text": [
      "Tokenized data saved to tokenized_data.csv\n"
     ]
    }
   ],
   "source": [
    "\n",
    "cleaned_file_path = 'cleaned_data.csv'\n",
    "df = pd.read_csv(cleaned_file_path)\n",
    "\n",
    "columns_to_tokenize = ['title', 'content', 'summary']\n",
    "\n",
    "tokenizer = AutoTokenizer.from_pretrained(\"allenai/longformer-base-4096\")\n",
    "\n",
    "for column in columns_to_tokenize:\n",
    "    df[f\"{column}_tokens\"] = df[column].apply(\n",
    "        lambda x: tokenizer.tokenize(x) if pd.notnull(x) else []\n",
    "    )\n",
    "    df[f\"{column}_token_ids\"] = df[column].apply(\n",
    "        lambda x: tokenizer.encode(x, truncation=True, max_length=512) if pd.notnull(x) else []\n",
    "    )\n",
    "\n",
    "tokenized_file_path = 'tokenized_data.csv'\n",
    "df.to_csv(tokenized_file_path, index=False)\n",
    "print(f\"Tokenized data saved to {tokenized_file_path}\")\n"
   ]
  },
  {
   "cell_type": "code",
   "execution_count": 10,
   "id": "edc77503",
   "metadata": {},
   "outputs": [],
   "source": [
    "tokenized_df = pd.read_csv('tokenized_data.csv')\n",
    "tokenized_df2= pd.read_csv('tokenized_data_hoax.csv')\n",
    "df_merge = pd.merge(tokenized_df, tokenized_df2, on=['record_id', 'content','Status','title','publication_date','title_token_ids','title_tokens','content_tokens','content_token_ids'], how='outer')\n",
    "\n"
   ]
  },
  {
   "cell_type": "code",
   "execution_count": 11,
   "id": "acc25a06",
   "metadata": {},
   "outputs": [
    {
     "data": {
      "text/html": [
       "<div>\n",
       "<style scoped>\n",
       "    .dataframe tbody tr th:only-of-type {\n",
       "        vertical-align: middle;\n",
       "    }\n",
       "\n",
       "    .dataframe tbody tr th {\n",
       "        vertical-align: top;\n",
       "    }\n",
       "\n",
       "    .dataframe thead th {\n",
       "        text-align: right;\n",
       "    }\n",
       "</style>\n",
       "<table border=\"1\" class=\"dataframe\">\n",
       "  <thead>\n",
       "    <tr style=\"text-align: right;\">\n",
       "      <th></th>\n",
       "      <th>record_id</th>\n",
       "      <th>news_source</th>\n",
       "      <th>title</th>\n",
       "      <th>content</th>\n",
       "      <th>publication_date</th>\n",
       "      <th>summary</th>\n",
       "      <th>Status</th>\n",
       "      <th>title_tokens</th>\n",
       "      <th>title_token_ids</th>\n",
       "      <th>content_tokens</th>\n",
       "      <th>content_token_ids</th>\n",
       "      <th>summary_tokens</th>\n",
       "      <th>summary_token_ids</th>\n",
       "    </tr>\n",
       "  </thead>\n",
       "  <tbody>\n",
       "    <tr>\n",
       "      <th>36959</th>\n",
       "      <td>999287</td>\n",
       "      <td>NaN</td>\n",
       "      <td>: kpk dilarang membawa brimob bersenjata masuk...</td>\n",
       "      <td>kpk dilarang membawa brimob bersenjata masuk g...</td>\n",
       "      <td>17-jan-16</td>\n",
       "      <td>NaN</td>\n",
       "      <td>0</td>\n",
       "      <td>[':', 'Ġk', 'p', 'k', 'Ġd', 'ilar', 'ang', 'Ġm...</td>\n",
       "      <td>[0, 35, 449, 642, 330, 385, 16813, 1097, 26012...</td>\n",
       "      <td>['k', 'p', 'k', 'Ġd', 'ilar', 'ang', 'Ġmem', '...</td>\n",
       "      <td>[0, 330, 642, 330, 385, 16813, 1097, 26012, 42...</td>\n",
       "      <td>NaN</td>\n",
       "      <td>NaN</td>\n",
       "    </tr>\n",
       "    <tr>\n",
       "      <th>36960</th>\n",
       "      <td>999472</td>\n",
       "      <td>NaN</td>\n",
       "      <td>foto pejabat keuangan dibawah palu arit</td>\n",
       "      <td>jangan mau dialihkan kepada pakaian adat… foku...</td>\n",
       "      <td>20-aug-20</td>\n",
       "      <td>NaN</td>\n",
       "      <td>0</td>\n",
       "      <td>['f', 'oto', 'Ġpe', 'jab', 'at', 'Ġke', 'u', '...</td>\n",
       "      <td>[0, 506, 7087, 3723, 39805, 415, 7321, 257, 25...</td>\n",
       "      <td>['j', 'angan', 'Ġm', 'au', 'Ġdial', 'ih', 'kan...</td>\n",
       "      <td>[0, 267, 25750, 475, 1180, 11481, 4001, 11334,...</td>\n",
       "      <td>NaN</td>\n",
       "      <td>NaN</td>\n",
       "    </tr>\n",
       "    <tr>\n",
       "      <th>36961</th>\n",
       "      <td>999501</td>\n",
       "      <td>NaN</td>\n",
       "      <td>gambar denny siregar musuh warga tasikmalaya d...</td>\n",
       "      <td>akhir nya bisa terkenal bang denny</td>\n",
       "      <td>17-aug-20</td>\n",
       "      <td>NaN</td>\n",
       "      <td>0</td>\n",
       "      <td>['g', 'amb', 'ar', 'Ġd', 'enny', 'Ġs', 'ire', ...</td>\n",
       "      <td>[0, 571, 3146, 271, 385, 11867, 579, 1885, 627...</td>\n",
       "      <td>['akh', 'ir', 'Ġn', 'ya', 'Ġb', 'isa', 'Ġter',...</td>\n",
       "      <td>[0, 7352, 853, 295, 2636, 741, 6619, 8470, 694...</td>\n",
       "      <td>NaN</td>\n",
       "      <td>NaN</td>\n",
       "    </tr>\n",
       "    <tr>\n",
       "      <th>36962</th>\n",
       "      <td>999848</td>\n",
       "      <td>NaN</td>\n",
       "      <td>kaesang: bapak saya dengan kesederhaan bisa ni...</td>\n",
       "      <td>bapak saya dengan kesederhaan bisa nipu rakyat...</td>\n",
       "      <td>21-jul-20</td>\n",
       "      <td>NaN</td>\n",
       "      <td>0</td>\n",
       "      <td>['ka', 'es', 'ang', ':', 'Ġb', 'ap', 'ak', 'Ġs...</td>\n",
       "      <td>[0, 2348, 293, 1097, 35, 741, 1115, 677, 224, ...</td>\n",
       "      <td>['b', 'ap', 'ak', 'Ġsay', 'a', 'Ġden', 'gan', ...</td>\n",
       "      <td>[0, 428, 1115, 677, 224, 102, 3069, 3494, 449,...</td>\n",
       "      <td>NaN</td>\n",
       "      <td>NaN</td>\n",
       "    </tr>\n",
       "    <tr>\n",
       "      <th>36963</th>\n",
       "      <td>999860</td>\n",
       "      <td>NaN</td>\n",
       "      <td>laser dari termometer gun akan merusak struktu...</td>\n",
       "      <td>in: saya nolak. kalau anda mau periksa, bukan ...</td>\n",
       "      <td>20-jul-20</td>\n",
       "      <td>NaN</td>\n",
       "      <td>0</td>\n",
       "      <td>['l', 'aser', 'Ġd', 'ari', 'Ġterm', 'ometer', ...</td>\n",
       "      <td>[0, 462, 12425, 385, 1512, 1385, 12687, 1751, ...</td>\n",
       "      <td>['in', ':', 'Ġsay', 'a', 'Ġn', 'ol', 'ak', '.'...</td>\n",
       "      <td>[0, 179, 35, 224, 102, 295, 1168, 677, 4, 449,...</td>\n",
       "      <td>NaN</td>\n",
       "      <td>NaN</td>\n",
       "    </tr>\n",
       "  </tbody>\n",
       "</table>\n",
       "</div>"
      ],
      "text/plain": [
       "       record_id news_source  \\\n",
       "36959     999287         NaN   \n",
       "36960     999472         NaN   \n",
       "36961     999501         NaN   \n",
       "36962     999848         NaN   \n",
       "36963     999860         NaN   \n",
       "\n",
       "                                                   title  \\\n",
       "36959  : kpk dilarang membawa brimob bersenjata masuk...   \n",
       "36960            foto pejabat keuangan dibawah palu arit   \n",
       "36961  gambar denny siregar musuh warga tasikmalaya d...   \n",
       "36962  kaesang: bapak saya dengan kesederhaan bisa ni...   \n",
       "36963  laser dari termometer gun akan merusak struktu...   \n",
       "\n",
       "                                                 content publication_date  \\\n",
       "36959  kpk dilarang membawa brimob bersenjata masuk g...        17-jan-16   \n",
       "36960  jangan mau dialihkan kepada pakaian adat… foku...        20-aug-20   \n",
       "36961                 akhir nya bisa terkenal bang denny        17-aug-20   \n",
       "36962  bapak saya dengan kesederhaan bisa nipu rakyat...        21-jul-20   \n",
       "36963  in: saya nolak. kalau anda mau periksa, bukan ...        20-jul-20   \n",
       "\n",
       "      summary  Status                                       title_tokens  \\\n",
       "36959     NaN       0  [':', 'Ġk', 'p', 'k', 'Ġd', 'ilar', 'ang', 'Ġm...   \n",
       "36960     NaN       0  ['f', 'oto', 'Ġpe', 'jab', 'at', 'Ġke', 'u', '...   \n",
       "36961     NaN       0  ['g', 'amb', 'ar', 'Ġd', 'enny', 'Ġs', 'ire', ...   \n",
       "36962     NaN       0  ['ka', 'es', 'ang', ':', 'Ġb', 'ap', 'ak', 'Ġs...   \n",
       "36963     NaN       0  ['l', 'aser', 'Ġd', 'ari', 'Ġterm', 'ometer', ...   \n",
       "\n",
       "                                         title_token_ids  \\\n",
       "36959  [0, 35, 449, 642, 330, 385, 16813, 1097, 26012...   \n",
       "36960  [0, 506, 7087, 3723, 39805, 415, 7321, 257, 25...   \n",
       "36961  [0, 571, 3146, 271, 385, 11867, 579, 1885, 627...   \n",
       "36962  [0, 2348, 293, 1097, 35, 741, 1115, 677, 224, ...   \n",
       "36963  [0, 462, 12425, 385, 1512, 1385, 12687, 1751, ...   \n",
       "\n",
       "                                          content_tokens  \\\n",
       "36959  ['k', 'p', 'k', 'Ġd', 'ilar', 'ang', 'Ġmem', '...   \n",
       "36960  ['j', 'angan', 'Ġm', 'au', 'Ġdial', 'ih', 'kan...   \n",
       "36961  ['akh', 'ir', 'Ġn', 'ya', 'Ġb', 'isa', 'Ġter',...   \n",
       "36962  ['b', 'ap', 'ak', 'Ġsay', 'a', 'Ġden', 'gan', ...   \n",
       "36963  ['in', ':', 'Ġsay', 'a', 'Ġn', 'ol', 'ak', '.'...   \n",
       "\n",
       "                                       content_token_ids summary_tokens  \\\n",
       "36959  [0, 330, 642, 330, 385, 16813, 1097, 26012, 42...            NaN   \n",
       "36960  [0, 267, 25750, 475, 1180, 11481, 4001, 11334,...            NaN   \n",
       "36961  [0, 7352, 853, 295, 2636, 741, 6619, 8470, 694...            NaN   \n",
       "36962  [0, 428, 1115, 677, 224, 102, 3069, 3494, 449,...            NaN   \n",
       "36963  [0, 179, 35, 224, 102, 295, 1168, 677, 4, 449,...            NaN   \n",
       "\n",
       "      summary_token_ids  \n",
       "36959               NaN  \n",
       "36960               NaN  \n",
       "36961               NaN  \n",
       "36962               NaN  \n",
       "36963               NaN  "
      ]
     },
     "execution_count": 11,
     "metadata": {},
     "output_type": "execute_result"
    }
   ],
   "source": [
    "df_merge.tail()\n"
   ]
  },
  {
   "cell_type": "code",
   "execution_count": 12,
   "id": "906d718a",
   "metadata": {},
   "outputs": [],
   "source": [
    "columns_to_fix = ['summary', 'summary_tokens', 'summary_token_ids','news_source']\n",
    "df_merge[columns_to_fix] = df_merge[columns_to_fix].fillna('')\n"
   ]
  },
  {
   "cell_type": "code",
   "execution_count": 13,
   "id": "89a284ae",
   "metadata": {},
   "outputs": [
    {
     "name": "stdout",
     "output_type": "stream",
     "text": [
      "<class 'str'>    36964\n",
      "Name: news_source, dtype: int64\n"
     ]
    }
   ],
   "source": [
    "print(df_merge['news_source'].apply(type).value_counts())\n",
    "\n"
   ]
  },
  {
   "cell_type": "code",
   "execution_count": null,
   "id": "de346abd",
   "metadata": {},
   "outputs": [
    {
     "data": {
      "application/vnd.jupyter.widget-view+json": {
       "model_id": "1fbcc20e9d9040b5bb6d4a952b93040b",
       "version_major": 2,
       "version_minor": 0
      },
      "text/plain": [
       "modules.json:   0%|          | 0.00/229 [00:00<?, ?B/s]"
      ]
     },
     "metadata": {},
     "output_type": "display_data"
    },
    {
     "name": "stderr",
     "output_type": "stream",
     "text": [
      "c:\\Users\\adiat\\AppData\\Local\\Programs\\Python\\Python310\\lib\\site-packages\\huggingface_hub\\file_download.py:139: UserWarning: `huggingface_hub` cache-system uses symlinks by default to efficiently store duplicated files but your machine does not support them in C:\\Users\\adiat\\.cache\\huggingface\\hub\\models--sentence-transformers--paraphrase-multilingual-MiniLM-L12-v2. Caching files will still work but in a degraded version that might require more space on your disk. This warning can be disabled by setting the `HF_HUB_DISABLE_SYMLINKS_WARNING` environment variable. For more details, see https://huggingface.co/docs/huggingface_hub/how-to-cache#limitations.\n",
      "To support symlinks on Windows, you either need to activate Developer Mode or to run Python as an administrator. In order to activate developer mode, see this article: https://docs.microsoft.com/en-us/windows/apps/get-started/enable-your-device-for-development\n",
      "  warnings.warn(message)\n"
     ]
    },
    {
     "data": {
      "application/vnd.jupyter.widget-view+json": {
       "model_id": "d7350ec3e55f4f618749747000f9f2d6",
       "version_major": 2,
       "version_minor": 0
      },
      "text/plain": [
       "config_sentence_transformers.json:   0%|          | 0.00/122 [00:00<?, ?B/s]"
      ]
     },
     "metadata": {},
     "output_type": "display_data"
    },
    {
     "data": {
      "application/vnd.jupyter.widget-view+json": {
       "model_id": "05bca6d3fab54c74b8ac1e32e5e36e28",
       "version_major": 2,
       "version_minor": 0
      },
      "text/plain": [
       "README.md:   0%|          | 0.00/4.12k [00:00<?, ?B/s]"
      ]
     },
     "metadata": {},
     "output_type": "display_data"
    },
    {
     "data": {
      "application/vnd.jupyter.widget-view+json": {
       "model_id": "48961dc8af204fbfb48fd67ba825c14d",
       "version_major": 2,
       "version_minor": 0
      },
      "text/plain": [
       "sentence_bert_config.json:   0%|          | 0.00/53.0 [00:00<?, ?B/s]"
      ]
     },
     "metadata": {},
     "output_type": "display_data"
    },
    {
     "data": {
      "application/vnd.jupyter.widget-view+json": {
       "model_id": "1cd86f37eea5489aa55df9e9a3cce25c",
       "version_major": 2,
       "version_minor": 0
      },
      "text/plain": [
       "config.json:   0%|          | 0.00/645 [00:00<?, ?B/s]"
      ]
     },
     "metadata": {},
     "output_type": "display_data"
    },
    {
     "data": {
      "application/vnd.jupyter.widget-view+json": {
       "model_id": "bdfe5e3ca0d94ac7b71bd9488ae84b43",
       "version_major": 2,
       "version_minor": 0
      },
      "text/plain": [
       "model.safetensors:   0%|          | 0.00/471M [00:00<?, ?B/s]"
      ]
     },
     "metadata": {},
     "output_type": "display_data"
    },
    {
     "data": {
      "application/vnd.jupyter.widget-view+json": {
       "model_id": "9c5ffb9540b64c31aad5b1b2d4d5099b",
       "version_major": 2,
       "version_minor": 0
      },
      "text/plain": [
       "tokenizer_config.json:   0%|          | 0.00/480 [00:00<?, ?B/s]"
      ]
     },
     "metadata": {},
     "output_type": "display_data"
    },
    {
     "data": {
      "application/vnd.jupyter.widget-view+json": {
       "model_id": "f6687468f28848f9b5c632cfff11147a",
       "version_major": 2,
       "version_minor": 0
      },
      "text/plain": [
       "tokenizer.json:   0%|          | 0.00/9.08M [00:00<?, ?B/s]"
      ]
     },
     "metadata": {},
     "output_type": "display_data"
    },
    {
     "data": {
      "application/vnd.jupyter.widget-view+json": {
       "model_id": "d51f8179d6be40e585acfe8d07a2d661",
       "version_major": 2,
       "version_minor": 0
      },
      "text/plain": [
       "special_tokens_map.json:   0%|          | 0.00/239 [00:00<?, ?B/s]"
      ]
     },
     "metadata": {},
     "output_type": "display_data"
    },
    {
     "data": {
      "application/vnd.jupyter.widget-view+json": {
       "model_id": "9246c7f50b254a89891874508c7e571a",
       "version_major": 2,
       "version_minor": 0
      },
      "text/plain": [
       "1_Pooling/config.json:   0%|          | 0.00/190 [00:00<?, ?B/s]"
      ]
     },
     "metadata": {},
     "output_type": "display_data"
    },
    {
     "data": {
      "application/vnd.jupyter.widget-view+json": {
       "model_id": "b3c608e082bd4a659cb31858c417777f",
       "version_major": 2,
       "version_minor": 0
      },
      "text/plain": [
       "Batches:   0%|          | 0/1156 [00:00<?, ?it/s]"
      ]
     },
     "metadata": {},
     "output_type": "display_data"
    },
    {
     "name": "stdout",
     "output_type": "stream",
     "text": [
      "(36964, 384)\n"
     ]
    }
   ],
   "source": [
    "model = SentenceTransformer(\"paraphrase-multilingual-MiniLM-L12-v2\")\n",
    "\n",
    "df_merge['combined_text'] = df_merge['title'] + \" \" + df_merge['content'] + \" \" + df_merge['summary']\n",
    "df_merge['combined_text'] = df_merge['combined_text'].apply(lambda x: str(x) if pd.notna(x) else \"\")\n",
    "\n",
    "\n",
    "text_embeddings = model.encode(df_merge['combined_text'].tolist(), batch_size=32, show_progress_bar=True)\n",
    "\n",
    "np.save('embeddings.npy', text_embeddings)\n",
    "\n",
    "print(text_embeddings.shape)\n"
   ]
  },
  {
   "cell_type": "code",
   "execution_count": 15,
   "id": "6eb65af3",
   "metadata": {},
   "outputs": [],
   "source": [
    "os.environ[\"OPENAI_API_KEY\"] = \"Kalo mo pake masukin API key kalian bang\"\n"
   ]
  },
  {
   "cell_type": "code",
   "execution_count": 16,
   "id": "a660bfad",
   "metadata": {},
   "outputs": [],
   "source": [
    "# df_merge['input'] = df_merge.apply(\n",
    "#     lambda x: f\"title: {' '.join(x['title_tokens'])} content: {' '.join(x['content_tokens'])} summary: {' '.join(x['summary_tokens'])}\", axis=1\n",
    "# )\n",
    "\n",
    "# llm = OpenAI(model_name=\"gpt-4\", temperature=0)\n",
    "\n",
    "# prompt = PromptTemplate(\n",
    "#     input_variables=[\"input\"],\n",
    "#     template=\"Analyze the following news and determine its authenticity: {input}\"\n",
    "# )\n",
    "\n",
    "# llm_chain = LLMChain(llm=llm, prompt=prompt)\n",
    "\n",
    "# def analyze_row(row):\n",
    "#     try:\n",
    "#         return llm_chain.run({\"input\": row['input']})\n",
    "#     except Exception as e:\n",
    "#         print(f\"Error processing row: {e}\")\n",
    "#         return \"Error\"\n",
    "\n",
    "# batch_size = 200\n",
    "\n",
    "# for start in range(0, len(df_merge), batch_size):\n",
    "#     batch = df_merge.iloc[start:start+batch_size]\n",
    "#     batch['predicted_label'] = batch.apply(analyze_row, axis=1)\n",
    "    \n",
    "#     batch.to_csv(f\"llm_predictions_batch_{start}.csv\", index=False)\n",
    "#     print(f\"Processed batch {start}-{start + batch_size - 1}\")\n",
    "\n",
    "# print(\"Batch processing completed and saved.\")"
   ]
  },
  {
   "cell_type": "code",
   "execution_count": 17,
   "id": "9574fb8a",
   "metadata": {},
   "outputs": [
    {
     "name": "stdout",
     "output_type": "stream",
     "text": [
      "Index contains 36964 documents\n"
     ]
    }
   ],
   "source": [
    "embeddings = np.load(\"embeddings.npy\").astype('float32')\n",
    "\n",
    "index = faiss.IndexFlatL2(embeddings.shape[1])  \n",
    "\n",
    "index.add(embeddings)\n",
    "\n",
    "print(f\"Index contains {index.ntotal} documents\")"
   ]
  },
  {
   "cell_type": "code",
   "execution_count": 18,
   "id": "6eab8112",
   "metadata": {},
   "outputs": [
    {
     "name": "stdout",
     "output_type": "stream",
     "text": [
      "FAISS index, docstore, and mappings saved.\n"
     ]
    }
   ],
   "source": [
    "embeddings = np.load(\"embeddings.npy\").astype('float32')\n",
    "documents = df_merge['content'].tolist()  # Document content\n",
    "metadata = [{\"title\": row['title'], \"summary\": row['summary']} for _, row in df_merge.iterrows()]  # Metadata for documents\n",
    "\n",
    "index = faiss.IndexFlatL2(embeddings.shape[1])\n",
    "index.add(embeddings)\n",
    "\n",
    "docstore_data = {str(i): {\"page_content\": documents[i], \"metadata\": metadata[i]} for i in range(len(documents))}\n",
    "docstore = InMemoryDocstore(docstore_data)\n",
    "\n",
    "index_to_docstore_id = {i: str(i) for i in range(len(documents))}\n",
    "\n",
    "faiss.write_index(index, \"faiss_index.index.faiss\")\n",
    "\n",
    "with open(\"docstore.pkl\", \"wb\") as f:\n",
    "    pickle.dump(docstore, f)\n",
    "with open(\"index_to_docstore_id.pkl\", \"wb\") as f:\n",
    "    pickle.dump(index_to_docstore_id, f)\n",
    "\n",
    "print(\"FAISS index, docstore, and mappings saved.\")\n"
   ]
  },
  {
   "cell_type": "code",
   "execution_count": 19,
   "id": "e19873f5",
   "metadata": {},
   "outputs": [
    {
     "data": {
      "application/vnd.jupyter.widget-view+json": {
       "model_id": "fbd151d3441d407db90db79b34c88f7e",
       "version_major": 2,
       "version_minor": 0
      },
      "text/plain": [
       "tokenizer_config.json:   0%|          | 0.00/48.0 [00:00<?, ?B/s]"
      ]
     },
     "metadata": {},
     "output_type": "display_data"
    },
    {
     "name": "stderr",
     "output_type": "stream",
     "text": [
      "c:\\Users\\adiat\\AppData\\Local\\Programs\\Python\\Python310\\lib\\site-packages\\huggingface_hub\\file_download.py:139: UserWarning: `huggingface_hub` cache-system uses symlinks by default to efficiently store duplicated files but your machine does not support them in C:\\Users\\adiat\\.cache\\huggingface\\hub\\models--bert-base-uncased. Caching files will still work but in a degraded version that might require more space on your disk. This warning can be disabled by setting the `HF_HUB_DISABLE_SYMLINKS_WARNING` environment variable. For more details, see https://huggingface.co/docs/huggingface_hub/how-to-cache#limitations.\n",
      "To support symlinks on Windows, you either need to activate Developer Mode or to run Python as an administrator. In order to activate developer mode, see this article: https://docs.microsoft.com/en-us/windows/apps/get-started/enable-your-device-for-development\n",
      "  warnings.warn(message)\n"
     ]
    },
    {
     "data": {
      "application/vnd.jupyter.widget-view+json": {
       "model_id": "f0058a8bee51426c887a14ef4be1b469",
       "version_major": 2,
       "version_minor": 0
      },
      "text/plain": [
       "config.json:   0%|          | 0.00/570 [00:00<?, ?B/s]"
      ]
     },
     "metadata": {},
     "output_type": "display_data"
    },
    {
     "data": {
      "application/vnd.jupyter.widget-view+json": {
       "model_id": "050a8fda62d741bc9f45989faae8c4b2",
       "version_major": 2,
       "version_minor": 0
      },
      "text/plain": [
       "vocab.txt:   0%|          | 0.00/232k [00:00<?, ?B/s]"
      ]
     },
     "metadata": {},
     "output_type": "display_data"
    },
    {
     "data": {
      "application/vnd.jupyter.widget-view+json": {
       "model_id": "e508cced2c5c463dba49b2a2695550ac",
       "version_major": 2,
       "version_minor": 0
      },
      "text/plain": [
       "tokenizer.json:   0%|          | 0.00/466k [00:00<?, ?B/s]"
      ]
     },
     "metadata": {},
     "output_type": "display_data"
    },
    {
     "data": {
      "application/vnd.jupyter.widget-view+json": {
       "model_id": "6c3288c49e894c898a529305d806a033",
       "version_major": 2,
       "version_minor": 0
      },
      "text/plain": [
       "model.safetensors:   0%|          | 0.00/440M [00:00<?, ?B/s]"
      ]
     },
     "metadata": {},
     "output_type": "display_data"
    },
    {
     "name": "stdout",
     "output_type": "stream",
     "text": [
      "Top 3 similar documents:\n",
      "Another document about machine learning.\n",
      "This is a document about AI.\n",
      "\n",
      "Another document about machine learning.\n"
     ]
    }
   ],
   "source": [
    "tokenizer = AutoTokenizer.from_pretrained(\"bert-base-uncased\")\n",
    "model = AutoModel.from_pretrained(\"bert-base-uncased\")\n",
    "\n",
    "documents = []\n",
    "with open(\"documents.txt\", \"r\") as f:\n",
    "    documents = f.readlines()\n",
    "\n",
    "embeddings = np.load(\"document_embeddings.npy\")\n",
    "index = faiss.read_index(\"document_index.index\")\n",
    "\n",
    "def retrieve_similar_documents(query, top_k=3):\n",
    "    query_embedding = tokenizer(query, return_tensors=\"pt\", padding=True, truncation=True)\n",
    "    with torch.no_grad():\n",
    "        query_output = model(**query_embedding)\n",
    "    query_embedding = query_output.last_hidden_state.mean(dim=1).numpy()\n",
    "\n",
    "    D, I = index.search(query_embedding, top_k)  \n",
    "    similar_documents = [documents[idx] for idx in I[0]]\n",
    "    return similar_documents\n",
    "\n",
    "query = \"AI technology is advancing rapidly, how is it affecting jobs?\"\n",
    "similar_docs = retrieve_similar_documents(query)\n",
    "\n",
    "print(\"Top 3 similar documents:\")\n",
    "for doc in similar_docs:\n",
    "    print(doc)"
   ]
  },
  {
   "cell_type": "code",
   "execution_count": 20,
   "id": "6b9abd0f",
   "metadata": {},
   "outputs": [
    {
     "data": {
      "application/vnd.jupyter.widget-view+json": {
       "model_id": "83cfc325266e431eb288c546a9fbb9f7",
       "version_major": 2,
       "version_minor": 0
      },
      "text/plain": [
       "config.json:   0%|          | 0.00/1.53k [00:00<?, ?B/s]"
      ]
     },
     "metadata": {},
     "output_type": "display_data"
    },
    {
     "name": "stderr",
     "output_type": "stream",
     "text": [
      "c:\\Users\\adiat\\AppData\\Local\\Programs\\Python\\Python310\\lib\\site-packages\\huggingface_hub\\file_download.py:139: UserWarning: `huggingface_hub` cache-system uses symlinks by default to efficiently store duplicated files but your machine does not support them in C:\\Users\\adiat\\.cache\\huggingface\\hub\\models--indobenchmark--indobert-base-p1. Caching files will still work but in a degraded version that might require more space on your disk. This warning can be disabled by setting the `HF_HUB_DISABLE_SYMLINKS_WARNING` environment variable. For more details, see https://huggingface.co/docs/huggingface_hub/how-to-cache#limitations.\n",
      "To support symlinks on Windows, you either need to activate Developer Mode or to run Python as an administrator. In order to activate developer mode, see this article: https://docs.microsoft.com/en-us/windows/apps/get-started/enable-your-device-for-development\n",
      "  warnings.warn(message)\n"
     ]
    },
    {
     "data": {
      "application/vnd.jupyter.widget-view+json": {
       "model_id": "11d04fbd7dec4f3bb0cbea0bd41b4bba",
       "version_major": 2,
       "version_minor": 0
      },
      "text/plain": [
       "pytorch_model.bin:   0%|          | 0.00/498M [00:00<?, ?B/s]"
      ]
     },
     "metadata": {},
     "output_type": "display_data"
    },
    {
     "name": "stderr",
     "output_type": "stream",
     "text": [
      "Some weights of BertForSequenceClassification were not initialized from the model checkpoint at indobenchmark/indobert-base-p1 and are newly initialized: ['classifier.bias', 'classifier.weight']\n",
      "You should probably TRAIN this model on a down-stream task to be able to use it for predictions and inference.\n"
     ]
    },
    {
     "data": {
      "application/vnd.jupyter.widget-view+json": {
       "model_id": "190f807e27fc41f285f10f3f680197b5",
       "version_major": 2,
       "version_minor": 0
      },
      "text/plain": [
       "tokenizer_config.json:   0%|          | 0.00/2.00 [00:00<?, ?B/s]"
      ]
     },
     "metadata": {},
     "output_type": "display_data"
    },
    {
     "data": {
      "application/vnd.jupyter.widget-view+json": {
       "model_id": "6588049a07ff419dbcf11d564c2eb1c5",
       "version_major": 2,
       "version_minor": 0
      },
      "text/plain": [
       "vocab.txt:   0%|          | 0.00/229k [00:00<?, ?B/s]"
      ]
     },
     "metadata": {},
     "output_type": "display_data"
    },
    {
     "data": {
      "application/vnd.jupyter.widget-view+json": {
       "model_id": "2f61c3f9dc1c48a5b11414d6513e7888",
       "version_major": 2,
       "version_minor": 0
      },
      "text/plain": [
       "special_tokens_map.json:   0%|          | 0.00/112 [00:00<?, ?B/s]"
      ]
     },
     "metadata": {},
     "output_type": "display_data"
    },
    {
     "name": "stdout",
     "output_type": "stream",
     "text": [
      "Fake News Detection Result: [{'label': 'LABEL_0', 'score': 0.34845447540283203}]\n"
     ]
    }
   ],
   "source": [
    "\n",
    "fake_news_classifier = pipeline(\"text-classification\", model=\"indobenchmark/indobert-base-p1\")\n",
    "\n",
    "def integrate_for_fake_news_detection(query, similar_documents):\n",
    "    context = \" \".join(similar_documents)  \n",
    "    combined_input = f\"Query: {query} Context: {context}\"\n",
    "\n",
    "    result = fake_news_classifier(combined_input)\n",
    "    \n",
    "    return result\n",
    "\n",
    "result = integrate_for_fake_news_detection(query, similar_docs)\n",
    "print(\"Fake News Detection Result:\", result)"
   ]
  },
  {
   "cell_type": "code",
   "execution_count": 10,
   "id": "7ef15f2b",
   "metadata": {},
   "outputs": [],
   "source": [
    "import pandas as pd\n",
    "from transformers import BertTokenizer\n",
    "from sklearn.model_selection import train_test_split\n",
    "import torch\n",
    "from transformers import BertForSequenceClassification, Trainer, TrainingArguments"
   ]
  },
  {
   "cell_type": "code",
   "execution_count": 13,
   "id": "087598fc",
   "metadata": {},
   "outputs": [],
   "source": [
    "\n",
    "df = pd.read_csv('cleaned_data.csv')\n",
    "\n",
    "# Replace NaN values in 'content' column with empty strings\n",
    "df['content'] = df['content'].fillna('')\n",
    "\n",
    "# Initialize the IndoBERT tokenizer\n",
    "tokenizer = BertTokenizer.from_pretrained('indobenchmark/indobert-base-p1')\n",
    "\n",
    "\n",
    "def preprocess_data(text):\n",
    "   \n",
    "    if not isinstance(text, str):\n",
    "        text = str(text)  \n",
    "    return tokenizer(text, padding='max_length', truncation=True, max_length=128)\n",
    "\n",
    "# Apply the preprocessing to the 'content' or 'title' column\n",
    "df['inputs'] = df['content'].apply(preprocess_data)\n",
    "\n",
    "# Split the data into train and test sets\n",
    "train_texts, test_texts, train_labels, test_labels = train_test_split(\n",
    "    df['inputs'].tolist(), df['Status'].tolist(), test_size=0.2, random_state=42\n",
    ")"
   ]
  },
  {
   "cell_type": "code",
   "execution_count": null,
   "id": "ef689205",
   "metadata": {},
   "outputs": [
    {
     "ename": "ValueError",
     "evalue": "expected sequence of length 18 at dim 1 (got 20)",
     "output_type": "error",
     "traceback": [
      "\u001b[1;31m---------------------------------------------------------------------------\u001b[0m",
      "\u001b[1;31mValueError\u001b[0m                                Traceback (most recent call last)",
      "Cell \u001b[1;32mIn [18], line 26\u001b[0m\n\u001b[0;32m     23\u001b[0m test_content_tokens \u001b[38;5;241m=\u001b[39m test_hoax[\u001b[38;5;124m'\u001b[39m\u001b[38;5;124mcontent_token_ids\u001b[39m\u001b[38;5;124m'\u001b[39m]\u001b[38;5;241m.\u001b[39mapply(\u001b[38;5;28meval\u001b[39m)\u001b[38;5;241m.\u001b[39mtolist()\n\u001b[0;32m     25\u001b[0m \u001b[38;5;66;03m# Convert token lists into PyTorch tensors\u001b[39;00m\n\u001b[1;32m---> 26\u001b[0m train_title_tokens_tensor \u001b[38;5;241m=\u001b[39m torch\u001b[38;5;241m.\u001b[39mtensor(train_title_tokens)\n\u001b[0;32m     27\u001b[0m train_content_tokens_tensor \u001b[38;5;241m=\u001b[39m torch\u001b[38;5;241m.\u001b[39mtensor(train_content_tokens)\n\u001b[0;32m     29\u001b[0m test_title_tokens_tensor \u001b[38;5;241m=\u001b[39m torch\u001b[38;5;241m.\u001b[39mtensor(test_title_tokens)\n",
      "\u001b[1;31mValueError\u001b[0m: expected sequence of length 18 at dim 1 (got 20)"
     ]
    }
   ],
   "source": [
    "# import pandas as pd\n",
    "# import torch\n",
    "# from sklearn.model_selection import train_test_split\n",
    "\n",
    "# max_length = 128\n",
    "\n",
    "# # Load the datasets\n",
    "# df_hoax = pd.read_csv('tokenized_data_hoax.csv')\n",
    "# df = pd.read_csv('tokenized_data.csv')\n",
    "\n",
    "# # Ensure the 'Status' column is in an appropriate format (e.g., 0 and 1 for binary classification)\n",
    "# df_hoax['Status'] = df_hoax['Status'].apply(lambda x: 1 if x == 'fake' else 0)  # Assuming 'fake' is the hoax label\n",
    "# df['Status'] = df['Status'].apply(lambda x: 1 if x == 'fake' else 0)  # Adjust if needed\n",
    "\n",
    "# # Split into train and test sets (using df_hoax as an example)\n",
    "# train_hoax, test_hoax = train_test_split(df_hoax, test_size=0.2, random_state=42)\n",
    "\n",
    "# # Use the tokenized columns (title_token_ids and content_token_ids) directly\n",
    "# train_title_tokens = train_hoax['title_token_ids'].apply(eval).tolist()  \n",
    "# train_content_tokens = train_hoax['content_token_ids'].apply(eval).tolist()\n",
    "\n",
    "# test_title_tokens = test_hoax['title_token_ids'].apply(eval).tolist()\n",
    "# test_content_tokens = test_hoax['content_token_ids'].apply(eval).tolist()\n",
    "\n",
    "# # Convert token lists into PyTorch tensors\n",
    "# train_title_tokens_tensor = torch.tensor(train_title_tokens)\n",
    "# train_content_tokens_tensor = torch.tensor(train_content_tokens)\n",
    "\n",
    "# test_title_tokens_tensor = torch.tensor(test_title_tokens)\n",
    "# test_content_tokens_tensor = torch.tensor(test_content_tokens)\n",
    "\n",
    "# # Labels as tensors\n",
    "# train_labels = torch.tensor(train_hoax['Status'].values)\n",
    "# test_labels = torch.tensor(test_hoax['Status'].values)\n",
    "\n",
    "# train_inputs = torch.cat((train_title_tokens_tensor, train_content_tokens_tensor), dim=1)\n",
    "# test_inputs = torch.cat((test_title_tokens_tensor, test_content_tokens_tensor), dim=1)"
   ]
  },
  {
   "cell_type": "code",
   "execution_count": 19,
   "id": "b00d14dc",
   "metadata": {},
   "outputs": [],
   "source": [
    "# Load the datasets\n",
    "df_hoax = pd.read_csv('tokenized_data_hoax.csv')\n",
    "df = pd.read_csv('tokenized_data.csv')\n",
    "\n",
    "# Ensure the 'Status' column is in an appropriate format (e.g., 0 and 1 for binary classification)\n",
    "df_hoax['Status'] = df_hoax['Status'].apply(lambda x: 1 if x == 'fake' else 0)  # Assuming 'fake' is the hoax label\n",
    "df['Status'] = df['Status'].apply(lambda x: 1 if x == 'fake' else 0)  # Adjust if needed\n",
    "\n",
    "# Split into train and test sets (using df_hoax as an example)\n",
    "train_hoax, test_hoax = train_test_split(df_hoax, test_size=0.2, random_state=42)\n",
    "\n",
    "# Use the tokenized columns (title_token_ids and content_token_ids) directly\n",
    "train_title_tokens = train_hoax['title_token_ids'].apply(eval).tolist()  \n",
    "train_content_tokens = train_hoax['content_token_ids'].apply(eval).tolist()\n",
    "\n",
    "test_title_tokens = test_hoax['title_token_ids'].apply(eval).tolist()\n",
    "test_content_tokens = test_hoax['content_token_ids'].apply(eval).tolist()\n",
    "\n",
    "# Define maximum lengths for padding\n",
    "max_title_length = 50  # Adjust based on your data\n",
    "max_content_length = 200  # Adjust based on your data\n",
    "\n",
    "# Function to pad or truncate sequences\n",
    "def pad_or_truncate(tokens, max_length):\n",
    "    if len(tokens) > max_length:\n",
    "        return tokens[:max_length]\n",
    "    else:\n",
    "        return tokens + [0] * (max_length - len(tokens))\n",
    "\n",
    "# Apply padding/truncation\n",
    "train_title_tokens_padded = [pad_or_truncate(tokens, max_title_length) for tokens in train_title_tokens]\n",
    "train_content_tokens_padded = [pad_or_truncate(tokens, max_content_length) for tokens in train_content_tokens]\n",
    "\n",
    "test_title_tokens_padded = [pad_or_truncate(tokens, max_title_length) for tokens in test_title_tokens]\n",
    "test_content_tokens_padded = [pad_or_truncate(tokens, max_content_length) for tokens in test_content_tokens]\n",
    "\n",
    "# Convert token lists into PyTorch tensors\n",
    "train_title_tokens_tensor = torch.tensor(train_title_tokens_padded)\n",
    "train_content_tokens_tensor = torch.tensor(train_content_tokens_padded)\n",
    "\n",
    "test_title_tokens_tensor = torch.tensor(test_title_tokens_padded)\n",
    "test_content_tokens_tensor = torch.tensor(test_content_tokens_padded)\n",
    "\n",
    "# Labels as tensors\n",
    "train_labels = torch.tensor(train_hoax['Status'].values)\n",
    "test_labels = torch.tensor(test_hoax['Status'].values)\n",
    "\n",
    "# Concatenate title and content tensors along the sequence dimension\n",
    "train_inputs = torch.cat((train_title_tokens_tensor, train_content_tokens_tensor), dim=1)\n",
    "test_inputs = torch.cat((test_title_tokens_tensor, test_content_tokens_tensor), dim=1)\n"
   ]
  },
  {
   "cell_type": "code",
   "execution_count": null,
   "id": "13d2af89",
   "metadata": {},
   "outputs": [
    {
     "name": "stderr",
     "output_type": "stream",
     "text": [
      "Some weights of BertForSequenceClassification were not initialized from the model checkpoint at indobenchmark/indobert-base-p1 and are newly initialized: ['classifier.bias', 'classifier.weight']\n",
      "You should probably TRAIN this model on a down-stream task to be able to use it for predictions and inference.\n"
     ]
    },
    {
     "ename": "ImportError",
     "evalue": "Using the `Trainer` with `PyTorch` requires `accelerate>=0.26.0`: Please run `pip install transformers[torch]` or `pip install 'accelerate>={ACCELERATE_MIN_VERSION}'`",
     "output_type": "error",
     "traceback": [
      "\u001b[1;31m---------------------------------------------------------------------------\u001b[0m",
      "\u001b[1;31mImportError\u001b[0m                               Traceback (most recent call last)",
      "Cell \u001b[1;32mIn [29], line 4\u001b[0m\n\u001b[0;32m      1\u001b[0m \u001b[38;5;66;03m# Load the pre-trained IndoBERT model\u001b[39;00m\n\u001b[0;32m      2\u001b[0m model \u001b[38;5;241m=\u001b[39m BertForSequenceClassification\u001b[38;5;241m.\u001b[39mfrom_pretrained(\u001b[38;5;124m'\u001b[39m\u001b[38;5;124mindobenchmark/indobert-base-p1\u001b[39m\u001b[38;5;124m'\u001b[39m, num_labels\u001b[38;5;241m=\u001b[39m\u001b[38;5;241m2\u001b[39m)\n\u001b[1;32m----> 4\u001b[0m training_args \u001b[38;5;241m=\u001b[39m TrainingArguments(\n\u001b[0;32m      5\u001b[0m     output_dir\u001b[38;5;241m=\u001b[39m\u001b[38;5;124m'\u001b[39m\u001b[38;5;124m./results\u001b[39m\u001b[38;5;124m'\u001b[39m,\n\u001b[0;32m      6\u001b[0m     num_train_epochs\u001b[38;5;241m=\u001b[39m\u001b[38;5;241m3\u001b[39m,\n\u001b[0;32m      7\u001b[0m     per_device_train_batch_size\u001b[38;5;241m=\u001b[39m\u001b[38;5;241m16\u001b[39m,\n\u001b[0;32m      8\u001b[0m     per_device_eval_batch_size\u001b[38;5;241m=\u001b[39m\u001b[38;5;241m16\u001b[39m,\n\u001b[0;32m      9\u001b[0m     evaluation_strategy\u001b[38;5;241m=\u001b[39m\u001b[38;5;124m\"\u001b[39m\u001b[38;5;124mepoch\u001b[39m\u001b[38;5;124m\"\u001b[39m,  \n\u001b[0;32m     10\u001b[0m     save_strategy\u001b[38;5;241m=\u001b[39m\u001b[38;5;124m\"\u001b[39m\u001b[38;5;124mepoch\u001b[39m\u001b[38;5;124m\"\u001b[39m,        \n\u001b[0;32m     11\u001b[0m     logging_dir\u001b[38;5;241m=\u001b[39m\u001b[38;5;124m'\u001b[39m\u001b[38;5;124m./logs\u001b[39m\u001b[38;5;124m'\u001b[39m,\n\u001b[0;32m     12\u001b[0m     logging_steps\u001b[38;5;241m=\u001b[39m\u001b[38;5;241m10\u001b[39m,\n\u001b[0;32m     13\u001b[0m     load_best_model_at_end\u001b[38;5;241m=\u001b[39m\u001b[38;5;28;01mTrue\u001b[39;00m   \n\u001b[0;32m     14\u001b[0m )\n\u001b[0;32m     16\u001b[0m \u001b[38;5;66;03m# Trainer definition\u001b[39;00m\n\u001b[0;32m     17\u001b[0m trainer \u001b[38;5;241m=\u001b[39m Trainer(\n\u001b[0;32m     18\u001b[0m     model\u001b[38;5;241m=\u001b[39mmodel,\n\u001b[0;32m     19\u001b[0m     args\u001b[38;5;241m=\u001b[39mtraining_args,\n\u001b[1;32m   (...)\u001b[0m\n\u001b[0;32m     22\u001b[0m     tokenizer\u001b[38;5;241m=\u001b[39mtokenizer,\n\u001b[0;32m     23\u001b[0m )\n",
      "File \u001b[1;32m<string>:134\u001b[0m, in \u001b[0;36m__init__\u001b[1;34m(self, output_dir, overwrite_output_dir, do_train, do_eval, do_predict, eval_strategy, prediction_loss_only, per_device_train_batch_size, per_device_eval_batch_size, per_gpu_train_batch_size, per_gpu_eval_batch_size, gradient_accumulation_steps, eval_accumulation_steps, eval_delay, torch_empty_cache_steps, learning_rate, weight_decay, adam_beta1, adam_beta2, adam_epsilon, max_grad_norm, num_train_epochs, max_steps, lr_scheduler_type, lr_scheduler_kwargs, warmup_ratio, warmup_steps, log_level, log_level_replica, log_on_each_node, logging_dir, logging_strategy, logging_first_step, logging_steps, logging_nan_inf_filter, save_strategy, save_steps, save_total_limit, save_safetensors, save_on_each_node, save_only_model, restore_callback_states_from_checkpoint, no_cuda, use_cpu, use_mps_device, seed, data_seed, jit_mode_eval, use_ipex, bf16, fp16, fp16_opt_level, half_precision_backend, bf16_full_eval, fp16_full_eval, tf32, local_rank, ddp_backend, tpu_num_cores, tpu_metrics_debug, debug, dataloader_drop_last, eval_steps, dataloader_num_workers, dataloader_prefetch_factor, past_index, run_name, disable_tqdm, remove_unused_columns, label_names, load_best_model_at_end, metric_for_best_model, greater_is_better, ignore_data_skip, fsdp, fsdp_min_num_params, fsdp_config, fsdp_transformer_layer_cls_to_wrap, accelerator_config, deepspeed, label_smoothing_factor, optim, optim_args, adafactor, group_by_length, length_column_name, report_to, ddp_find_unused_parameters, ddp_bucket_cap_mb, ddp_broadcast_buffers, dataloader_pin_memory, dataloader_persistent_workers, skip_memory_metrics, use_legacy_prediction_loop, push_to_hub, resume_from_checkpoint, hub_model_id, hub_strategy, hub_token, hub_private_repo, hub_always_push, gradient_checkpointing, gradient_checkpointing_kwargs, include_inputs_for_metrics, include_for_metrics, eval_do_concat_batches, fp16_backend, evaluation_strategy, push_to_hub_model_id, push_to_hub_organization, push_to_hub_token, mp_parameters, auto_find_batch_size, full_determinism, torchdynamo, ray_scope, ddp_timeout, torch_compile, torch_compile_backend, torch_compile_mode, dispatch_batches, split_batches, include_tokens_per_second, include_num_input_tokens_seen, neftune_noise_alpha, optim_target_modules, batch_eval_metrics, eval_on_start, use_liger_kernel, eval_use_gather_object, average_tokens_across_devices)\u001b[0m\n",
      "File \u001b[1;32mc:\\Users\\adiat\\AppData\\Local\\Programs\\Python\\Python310\\lib\\site-packages\\transformers\\training_args.py:1773\u001b[0m, in \u001b[0;36mTrainingArguments.__post_init__\u001b[1;34m(self)\u001b[0m\n\u001b[0;32m   1771\u001b[0m \u001b[38;5;66;03m# Initialize device before we proceed\u001b[39;00m\n\u001b[0;32m   1772\u001b[0m \u001b[38;5;28;01mif\u001b[39;00m \u001b[38;5;28mself\u001b[39m\u001b[38;5;241m.\u001b[39mframework \u001b[38;5;241m==\u001b[39m \u001b[38;5;124m\"\u001b[39m\u001b[38;5;124mpt\u001b[39m\u001b[38;5;124m\"\u001b[39m \u001b[38;5;129;01mand\u001b[39;00m is_torch_available():\n\u001b[1;32m-> 1773\u001b[0m     \u001b[38;5;28;43mself\u001b[39;49m\u001b[38;5;241;43m.\u001b[39;49m\u001b[43mdevice\u001b[49m\n\u001b[0;32m   1775\u001b[0m \u001b[38;5;66;03m# Disable average tokens when using single device\u001b[39;00m\n\u001b[0;32m   1776\u001b[0m \u001b[38;5;28;01mif\u001b[39;00m \u001b[38;5;28mself\u001b[39m\u001b[38;5;241m.\u001b[39maverage_tokens_across_devices:\n",
      "File \u001b[1;32mc:\\Users\\adiat\\AppData\\Local\\Programs\\Python\\Python310\\lib\\site-packages\\transformers\\training_args.py:2299\u001b[0m, in \u001b[0;36mTrainingArguments.device\u001b[1;34m(self)\u001b[0m\n\u001b[0;32m   2295\u001b[0m \u001b[38;5;124;03m\"\"\"\u001b[39;00m\n\u001b[0;32m   2296\u001b[0m \u001b[38;5;124;03mThe device used by this process.\u001b[39;00m\n\u001b[0;32m   2297\u001b[0m \u001b[38;5;124;03m\"\"\"\u001b[39;00m\n\u001b[0;32m   2298\u001b[0m requires_backends(\u001b[38;5;28mself\u001b[39m, [\u001b[38;5;124m\"\u001b[39m\u001b[38;5;124mtorch\u001b[39m\u001b[38;5;124m\"\u001b[39m])\n\u001b[1;32m-> 2299\u001b[0m \u001b[38;5;28;01mreturn\u001b[39;00m \u001b[38;5;28;43mself\u001b[39;49m\u001b[38;5;241;43m.\u001b[39;49m\u001b[43m_setup_devices\u001b[49m\n",
      "File \u001b[1;32mc:\\Users\\adiat\\AppData\\Local\\Programs\\Python\\Python310\\lib\\site-packages\\transformers\\utils\\generic.py:60\u001b[0m, in \u001b[0;36mcached_property.__get__\u001b[1;34m(self, obj, objtype)\u001b[0m\n\u001b[0;32m     58\u001b[0m cached \u001b[38;5;241m=\u001b[39m \u001b[38;5;28mgetattr\u001b[39m(obj, attr, \u001b[38;5;28;01mNone\u001b[39;00m)\n\u001b[0;32m     59\u001b[0m \u001b[38;5;28;01mif\u001b[39;00m cached \u001b[38;5;129;01mis\u001b[39;00m \u001b[38;5;28;01mNone\u001b[39;00m:\n\u001b[1;32m---> 60\u001b[0m     cached \u001b[38;5;241m=\u001b[39m \u001b[38;5;28;43mself\u001b[39;49m\u001b[38;5;241;43m.\u001b[39;49m\u001b[43mfget\u001b[49m\u001b[43m(\u001b[49m\u001b[43mobj\u001b[49m\u001b[43m)\u001b[49m\n\u001b[0;32m     61\u001b[0m     \u001b[38;5;28msetattr\u001b[39m(obj, attr, cached)\n\u001b[0;32m     62\u001b[0m \u001b[38;5;28;01mreturn\u001b[39;00m cached\n",
      "File \u001b[1;32mc:\\Users\\adiat\\AppData\\Local\\Programs\\Python\\Python310\\lib\\site-packages\\transformers\\training_args.py:2172\u001b[0m, in \u001b[0;36mTrainingArguments._setup_devices\u001b[1;34m(self)\u001b[0m\n\u001b[0;32m   2170\u001b[0m \u001b[38;5;28;01mif\u001b[39;00m \u001b[38;5;129;01mnot\u001b[39;00m is_sagemaker_mp_enabled():\n\u001b[0;32m   2171\u001b[0m     \u001b[38;5;28;01mif\u001b[39;00m \u001b[38;5;129;01mnot\u001b[39;00m is_accelerate_available():\n\u001b[1;32m-> 2172\u001b[0m         \u001b[38;5;28;01mraise\u001b[39;00m \u001b[38;5;167;01mImportError\u001b[39;00m(\n\u001b[0;32m   2173\u001b[0m             \u001b[38;5;124mf\u001b[39m\u001b[38;5;124m\"\u001b[39m\u001b[38;5;124mUsing the `Trainer` with `PyTorch` requires `accelerate>=\u001b[39m\u001b[38;5;132;01m{\u001b[39;00mACCELERATE_MIN_VERSION\u001b[38;5;132;01m}\u001b[39;00m\u001b[38;5;124m`: \u001b[39m\u001b[38;5;124m\"\u001b[39m\n\u001b[0;32m   2174\u001b[0m             \u001b[38;5;124m\"\u001b[39m\u001b[38;5;124mPlease run `pip install transformers[torch]` or `pip install \u001b[39m\u001b[38;5;124m'\u001b[39m\u001b[38;5;124maccelerate>=\u001b[39m\u001b[38;5;132;01m{ACCELERATE_MIN_VERSION}\u001b[39;00m\u001b[38;5;124m'\u001b[39m\u001b[38;5;124m`\u001b[39m\u001b[38;5;124m\"\u001b[39m\n\u001b[0;32m   2175\u001b[0m         )\n\u001b[0;32m   2176\u001b[0m \u001b[38;5;66;03m# We delay the init of `PartialState` to the end for clarity\u001b[39;00m\n\u001b[0;32m   2177\u001b[0m accelerator_state_kwargs \u001b[38;5;241m=\u001b[39m {\u001b[38;5;124m\"\u001b[39m\u001b[38;5;124menabled\u001b[39m\u001b[38;5;124m\"\u001b[39m: \u001b[38;5;28;01mTrue\u001b[39;00m, \u001b[38;5;124m\"\u001b[39m\u001b[38;5;124muse_configured_state\u001b[39m\u001b[38;5;124m\"\u001b[39m: \u001b[38;5;28;01mFalse\u001b[39;00m}\n",
      "\u001b[1;31mImportError\u001b[0m: Using the `Trainer` with `PyTorch` requires `accelerate>=0.26.0`: Please run `pip install transformers[torch]` or `pip install 'accelerate>={ACCELERATE_MIN_VERSION}'`"
     ]
    }
   ],
   "source": [
    "# Load the pre-trained IndoBERT model\n",
    "model = BertForSequenceClassification.from_pretrained('indobenchmark/indobert-base-p1', num_labels=2)\n",
    "\n",
    "training_args = TrainingArguments(\n",
    "    output_dir='./results',\n",
    "    num_train_epochs=3,\n",
    "    per_device_train_batch_size=16,\n",
    "    per_device_eval_batch_size=16,\n",
    "    evaluation_strategy=\"epoch\",  \n",
    "    save_strategy=\"epoch\",        \n",
    "    logging_dir='./logs',\n",
    "    logging_steps=10,\n",
    "    load_best_model_at_end=True   \n",
    ")\n",
    "\n",
    "# Trainer definition\n",
    "trainer = Trainer(\n",
    "    model=model,\n",
    "    args=training_args,\n",
    "    train_dataset=train_encodings,\n",
    "    eval_dataset=test_encodings,\n",
    "    tokenizer=tokenizer,\n",
    ")\n",
    "\n",
    "# Start training\n",
    "trainer.train()\n"
   ]
  },
  {
   "cell_type": "code",
   "execution_count": null,
   "id": "a4ec06b3",
   "metadata": {},
   "outputs": [],
   "source": [
    "# Save the trained model (kalau udh bagus)\n",
    "# model.save_pretrained('./fake_news_model')\n",
    "# tokenizer.save_pretrained('./fake_news_model')\n"
   ]
  },
  {
   "cell_type": "code",
   "execution_count": null,
   "id": "90f14453",
   "metadata": {},
   "outputs": [],
   "source": [
    "# Evaluate the model on test data\n",
    "predictions = trainer.predict(test_encodings)\n",
    "pred_labels = torch.argmax(predictions.predictions, axis=-1).item()\n",
    "\n",
    "from sklearn.metrics import accuracy_score, precision_recall_fscore_support\n",
    "\n",
    "# Compute the evaluation metrics\n",
    "accuracy = accuracy_score(test_labels, pred_labels)\n",
    "precision, recall, f1, _ = precision_recall_fscore_support(test_labels, pred_labels, average='binary')\n",
    "\n",
    "print(f\"Accuracy: {accuracy}\")\n",
    "print(f\"Precision: {precision}\")\n",
    "print(f\"Recall: {recall}\")\n",
    "print(f\"F1-Score: {f1}\")"
   ]
  },
  {
   "cell_type": "code",
   "execution_count": null,
   "id": "529f6e6a",
   "metadata": {},
   "outputs": [],
   "source": [
    "# # Load the fine-tuned model\n",
    "# model = BertForSequenceClassification.from_pretrained('./fake_news_model')\n",
    "# tokenizer = BertTokenizer.from_pretrained('./fake_news_model')\n",
    "\n",
    "# # Sample query\n",
    "# query = \"Apakah berita ini benar atau hoax?\"\n",
    "# inputs = tokenizer(query, return_tensors=\"pt\")\n",
    "\n",
    "# # Make prediction\n",
    "# outputs = model(**inputs)\n",
    "# logits = outputs.logits\n",
    "# predicted_label = torch.argmax(logits, dim=-1).item()\n",
    "\n",
    "# print(f\"Predicted label: {predicted_label}\")\n",
    "# Untuk kalau udh dapat model yang bagus \n",
    "# can use it to make predictions on new data inserted"
   ]
  },
  {
   "cell_type": "code",
   "execution_count": null,
   "id": "db7039e7",
   "metadata": {},
   "outputs": [],
   "source": []
  }
 ],
 "metadata": {
  "kernelspec": {
   "display_name": "Python 3",
   "language": "python",
   "name": "python3"
  },
  "language_info": {
   "codemirror_mode": {
    "name": "ipython",
    "version": 3
   },
   "file_extension": ".py",
   "mimetype": "text/x-python",
   "name": "python",
   "nbconvert_exporter": "python",
   "pygments_lexer": "ipython3",
   "version": "3.10.7"
  }
 },
 "nbformat": 4,
 "nbformat_minor": 5
}
